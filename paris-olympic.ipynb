{
 "cells": [
  {
   "cell_type": "code",
   "execution_count": 0,
   "metadata": {
    "application/vnd.databricks.v1+cell": {
     "cellMetadata": {
      "byteLimit": 2048000,
      "rowLimit": 10000
     },
     "inputWidgets": {},
     "nuid": "0fccba1b-7769-433c-a2c6-065e1df5f9b6",
     "showTitle": false,
     "tableResultSettingsMap": {},
     "title": ""
    }
   },
   "outputs": [],
   "source": [
    "from pyspark.sql.functions import *\n",
    "from pprint import pprint"
   ]
  },
  {
   "cell_type": "code",
   "execution_count": 0,
   "metadata": {
    "application/vnd.databricks.v1+cell": {
     "cellMetadata": {
      "byteLimit": 2048000,
      "rowLimit": 10000
     },
     "inputWidgets": {},
     "nuid": "1f1e877c-9483-4b77-a5c2-8feb8c0a807e",
     "showTitle": false,
     "tableResultSettingsMap": {},
     "title": ""
    }
   },
   "outputs": [],
   "source": [
    "# configs = {\"fs.azure.account.auth.type\": \"OAuth\",\n",
    "# \"fs.azure.account.oauth.provider.type\": \"org.apache.hadoop.fs.azurebfs.oauth2.ClientCredsTokenProvider\",\n",
    "# \"fs.azure.account.oauth2.client.id\": \"#redacted#\",\n",
    "# \"fs.azure.account.oauth2.client.secret\": '#redacted#',\n",
    "# \"fs.azure.account.oauth2.client.endpoint\": \"https://login.microsoftonline.com/#redacted#/oauth2/token\"}\n",
    "\n",
    "\n",
    "# dbutils.fs.mount(\n",
    "# source = \"abfss://paris-olympic-2024@nideeshdeprojects.dfs.core.windows.net\",\n",
    "# mount_point = \"/mnt/paris-olympic-2024\",\n",
    "# extra_configs = configs)"
   ]
  },
  {
   "cell_type": "code",
   "execution_count": 0,
   "metadata": {
    "application/vnd.databricks.v1+cell": {
     "cellMetadata": {
      "byteLimit": 2048000,
      "rowLimit": 10000
     },
     "inputWidgets": {},
     "nuid": "07282902-18cf-40f5-bb5d-1f5349a57ae1",
     "showTitle": false,
     "tableResultSettingsMap": {},
     "title": ""
    }
   },
   "outputs": [],
   "source": [
    "MountPath = \"/mnt/paris-olympic-2024/\"\n",
    "RawFolder = \"raw-data/\""
   ]
  },
  {
   "cell_type": "code",
   "execution_count": 0,
   "metadata": {
    "application/vnd.databricks.v1+cell": {
     "cellMetadata": {
      "byteLimit": 2048000,
      "rowLimit": 10000
     },
     "inputWidgets": {},
     "nuid": "8fbda2af-603d-4262-8312-227d9cd86d3d",
     "showTitle": false,
     "tableResultSettingsMap": {},
     "title": ""
    }
   },
   "outputs": [],
   "source": [
    "CSV_Corrupt_Fix_Options = {\n",
    "    \"header\": \"true\",\n",
    "    \"multiLine\": \"true\",\n",
    "    \"escape\": \"\\\"\",\n",
    "}"
   ]
  },
  {
   "cell_type": "code",
   "execution_count": 0,
   "metadata": {
    "application/vnd.databricks.v1+cell": {
     "cellMetadata": {
      "byteLimit": 2048000,
      "rowLimit": 10000
     },
     "inputWidgets": {},
     "nuid": "6472e98e-0d97-47a8-8995-c8ef16023292",
     "showTitle": false,
     "tableResultSettingsMap": {},
     "title": ""
    }
   },
   "outputs": [],
   "source": [
    "athletes = spark.read.format(\"csv\") \\\n",
    "    .options(**CSV_Corrupt_Fix_Options) \\\n",
    "    .load(MountPath + RawFolder + \"athletes.csv\")\n",
    "# display(athletes)\n",
    "\n",
    "athletes_cleaned = athletes.withColumn(\"birth_date\", to_date(col(\"birth_date\"), \"yyyy-MM-dd\"))"
   ]
  },
  {
   "cell_type": "code",
   "execution_count": 0,
   "metadata": {
    "application/vnd.databricks.v1+cell": {
     "cellMetadata": {
      "byteLimit": 2048000,
      "rowLimit": 10000
     },
     "inputWidgets": {},
     "nuid": "ae9ec09b-1fc0-46de-a188-d328046becbf",
     "showTitle": false,
     "tableResultSettingsMap": {},
     "title": ""
    }
   },
   "outputs": [],
   "source": [
    "coaches = spark.read.format(\"csv\") \\\n",
    "    .options(**CSV_Corrupt_Fix_Options) \\\n",
    "    .load(MountPath + RawFolder + \"coaches.csv\") \n",
    "# display(coaches)\n",
    "\n",
    "coaches_cleaned = coaches.withColumn(\"birth_date\", to_date(col(\"birth_date\"), \"yyyy-MM-dd\"))"
   ]
  },
  {
   "cell_type": "code",
   "execution_count": 0,
   "metadata": {
    "application/vnd.databricks.v1+cell": {
     "cellMetadata": {
      "byteLimit": 2048000,
      "rowLimit": 10000
     },
     "inputWidgets": {},
     "nuid": "75a60004-5e91-4f34-b25e-6a09f8a8d2c3",
     "showTitle": false,
     "tableResultSettingsMap": {},
     "title": ""
    }
   },
   "outputs": [],
   "source": [
    "events = spark.read.format(\"csv\") \\\n",
    "    .options(**CSV_Corrupt_Fix_Options) \\\n",
    "    .load(MountPath + RawFolder + \"events.csv\")\n",
    "# display(events)"
   ]
  },
  {
   "cell_type": "code",
   "execution_count": 0,
   "metadata": {
    "application/vnd.databricks.v1+cell": {
     "cellMetadata": {
      "byteLimit": 2048000,
      "rowLimit": 10000
     },
     "inputWidgets": {},
     "nuid": "a2f85020-2c2f-4947-a636-ed2c38e4363f",
     "showTitle": false,
     "tableResultSettingsMap": {},
     "title": ""
    }
   },
   "outputs": [],
   "source": [
    "medallists = spark.read.format(\"csv\") \\\n",
    "    .options(**CSV_Corrupt_Fix_Options) \\\n",
    "    .load(MountPath + RawFolder + \"medallists.csv\")\n",
    "# display(medallists)\n",
    "\n",
    "medallists_cleaned = medallists.withColumn(\"birth_date\", to_date(col(\"birth_date\"), \"yyyy-MM-dd\")) \\\n",
    "    .withColumn(\"medal_date\", to_date(col(\"medal_date\"), \"yyyy-MM-dd\"))"
   ]
  },
  {
   "cell_type": "code",
   "execution_count": 0,
   "metadata": {
    "application/vnd.databricks.v1+cell": {
     "cellMetadata": {
      "byteLimit": 2048000,
      "rowLimit": 10000
     },
     "inputWidgets": {},
     "nuid": "22b2fa45-5c9b-41d2-890e-cdc7b58040e0",
     "showTitle": false,
     "tableResultSettingsMap": {},
     "title": ""
    }
   },
   "outputs": [],
   "source": [
    "medals = spark.read.format(\"csv\") \\\n",
    "    .options(**CSV_Corrupt_Fix_Options) \\\n",
    "    .load(MountPath + RawFolder + \"medals.csv\")\n",
    "# display(medals)\n",
    "\n",
    "medals_cleaned = medals.withColumn(\"medal_date\", to_date(col(\"medal_date\"), \"yyyy-MM-dd\"))"
   ]
  },
  {
   "cell_type": "code",
   "execution_count": 0,
   "metadata": {
    "application/vnd.databricks.v1+cell": {
     "cellMetadata": {
      "byteLimit": 2048000,
      "rowLimit": 10000
     },
     "inputWidgets": {},
     "nuid": "b862d54b-ec81-4a75-8dca-6b0dee16459d",
     "showTitle": false,
     "tableResultSettingsMap": {},
     "title": ""
    }
   },
   "outputs": [],
   "source": [
    "medals_total = spark.read.format(\"csv\") \\\n",
    "    .options(**CSV_Corrupt_Fix_Options) \\\n",
    "    .load(MountPath + RawFolder + \"medals_total.csv\")\n",
    "# display(medals_total)"
   ]
  },
  {
   "cell_type": "code",
   "execution_count": 0,
   "metadata": {
    "application/vnd.databricks.v1+cell": {
     "cellMetadata": {
      "byteLimit": 2048000,
      "rowLimit": 10000
     },
     "inputWidgets": {},
     "nuid": "8727aa28-9aba-48d8-beb1-a30a9f65b463",
     "showTitle": false,
     "tableResultSettingsMap": {},
     "title": ""
    }
   },
   "outputs": [],
   "source": [
    "nocs = spark.read.format(\"csv\") \\\n",
    "    .options(**CSV_Corrupt_Fix_Options) \\\n",
    "    .load(MountPath + RawFolder + \"nocs.csv\")\n",
    "# display(nocs)"
   ]
  },
  {
   "cell_type": "markdown",
   "metadata": {
    "application/vnd.databricks.v1+cell": {
     "cellMetadata": {
      "byteLimit": 2048000,
      "rowLimit": 10000
     },
     "inputWidgets": {},
     "nuid": "cb055941-e2ab-43f7-b83a-32e4e8cd1473",
     "showTitle": false,
     "tableResultSettingsMap": {},
     "title": ""
    }
   },
   "source": [
    "# Visuals"
   ]
  },
  {
   "cell_type": "markdown",
   "metadata": {
    "application/vnd.databricks.v1+cell": {
     "cellMetadata": {
      "byteLimit": 2048000,
      "rowLimit": 10000
     },
     "inputWidgets": {},
     "nuid": "017db85a-a7fb-4939-8e9b-2e99504fb633",
     "showTitle": false,
     "tableResultSettingsMap": {},
     "title": ""
    }
   },
   "source": [
    "## Country-Wise Gender-Wise medal count"
   ]
  },
  {
   "cell_type": "code",
   "execution_count": 0,
   "metadata": {
    "application/vnd.databricks.v1+cell": {
     "cellMetadata": {
      "byteLimit": 2048000,
      "rowLimit": 10000
     },
     "inputWidgets": {},
     "nuid": "b94f8223-1565-4729-860b-2f14aa6ac0a4",
     "showTitle": false,
     "tableResultSettingsMap": {
      "0": {
       "dataGridStateBlob": null,
       "filterBlob": "{\"version\":1,\"filterGroups\":[],\"syncTimestamp\":1754069783732}",
       "queryPlanFiltersBlob": "[]",
       "tableResultIndex": 0
      }
     },
     "title": ""
    }
   },
   "outputs": [
    {
     "output_type": "display_data",
     "data": {
      "text/html": [
       "<style scoped>\n",
       "  .table-result-container {\n",
       "    max-height: 300px;\n",
       "    overflow: auto;\n",
       "  }\n",
       "  table, th, td {\n",
       "    border: 1px solid black;\n",
       "    border-collapse: collapse;\n",
       "  }\n",
       "  th, td {\n",
       "    padding: 5px;\n",
       "  }\n",
       "  th {\n",
       "    text-align: left;\n",
       "  }\n",
       "</style><div class='table-result-container'><table class='table-result'><thead style='background-color: white'><tr><th>country</th><th>Gender</th><th>count</th></tr></thead><tbody><tr><td>United States</td><td>Female</td><td>328</td></tr><tr><td>France</td><td>Male</td><td>305</td></tr><tr><td>France</td><td>Female</td><td>295</td></tr><tr><td>United States</td><td>Male</td><td>291</td></tr><tr><td>Australia</td><td>Female</td><td>265</td></tr><tr><td>China</td><td>Female</td><td>264</td></tr><tr><td>Germany</td><td>Male</td><td>232</td></tr><tr><td>Japan</td><td>Male</td><td>230</td></tr><tr><td>Germany</td><td>Female</td><td>225</td></tr><tr><td>Australia</td><td>Male</td><td>210</td></tr><tr><td>Italy</td><td>Male</td><td>205</td></tr><tr><td>Canada</td><td>Female</td><td>203</td></tr><tr><td>Spain</td><td>Female</td><td>202</td></tr><tr><td>Japan</td><td>Female</td><td>201</td></tr><tr><td>Spain</td><td>Male</td><td>199</td></tr><tr><td>Italy</td><td>Female</td><td>192</td></tr><tr><td>Great Britain</td><td>Female</td><td>178</td></tr><tr><td>Netherlands</td><td>Female</td><td>172</td></tr><tr><td>Brazil</td><td>Female</td><td>164</td></tr><tr><td>Great Britain</td><td>Male</td><td>164</td></tr><tr><td>China</td><td>Male</td><td>134</td></tr><tr><td>Canada</td><td>Male</td><td>129</td></tr><tr><td>Brazil</td><td>Male</td><td>126</td></tr><tr><td>Poland</td><td>Female</td><td>124</td></tr><tr><td>Netherlands</td><td>Male</td><td>117</td></tr><tr><td>Argentina</td><td>Male</td><td>110</td></tr><tr><td>New Zealand</td><td>Male</td><td>107</td></tr><tr><td>Egypt</td><td>Male</td><td>103</td></tr><tr><td>Poland</td><td>Male</td><td>102</td></tr><tr><td>New Zealand</td><td>Female</td><td>101</td></tr><tr><td>Hungary</td><td>Male</td><td>92</td></tr><tr><td>Belgium</td><td>Male</td><td>89</td></tr><tr><td>Belgium</td><td>Female</td><td>88</td></tr><tr><td>Hungary</td><td>Female</td><td>85</td></tr><tr><td>Korea</td><td>Female</td><td>81</td></tr><tr><td>South Africa</td><td>Male</td><td>78</td></tr><tr><td>Ireland</td><td>Male</td><td>74</td></tr><tr><td>Denmark</td><td>Female</td><td>74</td></tr><tr><td>Ukraine</td><td>Male</td><td>72</td></tr><tr><td>Switzerland</td><td>Male</td><td>71</td></tr><tr><td>Serbia</td><td>Male</td><td>70</td></tr><tr><td>Ukraine</td><td>Female</td><td>69</td></tr><tr><td>Ireland</td><td>Female</td><td>69</td></tr><tr><td>Sweden</td><td>Female</td><td>66</td></tr><tr><td>India</td><td>Male</td><td>66</td></tr><tr><td>Switzerland</td><td>Female</td><td>66</td></tr><tr><td>Korea</td><td>Male</td><td>66</td></tr><tr><td>Mexico</td><td>Female</td><td>63</td></tr><tr><td>Nigeria</td><td>Female</td><td>63</td></tr><tr><td>South Africa</td><td>Female</td><td>63</td></tr><tr><td>Czechia</td><td>Male</td><td>62</td></tr><tr><td>Sweden</td><td>Male</td><td>59</td></tr><tr><td>Greece</td><td>Male</td><td>59</td></tr><tr><td>Croatia</td><td>Male</td><td>58</td></tr><tr><td>Denmark</td><td>Male</td><td>57</td></tr><tr><td>Uzbekistan</td><td>Male</td><td>57</td></tr><tr><td>Israel</td><td>Male</td><td>56</td></tr><tr><td>Norway</td><td>Male</td><td>56</td></tr><tr><td>Türkiye</td><td>Female</td><td>54</td></tr><tr><td>Egypt</td><td>Female</td><td>54</td></tr><tr><td>Kazakhstan</td><td>Male</td><td>54</td></tr><tr><td>Norway</td><td>Female</td><td>53</td></tr><tr><td>Colombia</td><td>Female</td><td>51</td></tr><tr><td>Romania</td><td>Male</td><td>49</td></tr><tr><td>Czechia</td><td>Female</td><td>49</td></tr><tr><td>Slovenia</td><td>Male</td><td>48</td></tr><tr><td>Türkiye</td><td>Male</td><td>47</td></tr><tr><td>Slovenia</td><td>Female</td><td>47</td></tr><tr><td>Austria</td><td>Male</td><td>47</td></tr><tr><td>Romania</td><td>Female</td><td>47</td></tr><tr><td>India</td><td>Female</td><td>46</td></tr><tr><td>Mexico</td><td>Male</td><td>45</td></tr><tr><td>Serbia</td><td>Female</td><td>44</td></tr><tr><td>Morocco</td><td>Male</td><td>43</td></tr><tr><td>Greece</td><td>Female</td><td>41</td></tr><tr><td>Kenya</td><td>Male</td><td>40</td></tr><tr><td>Portugal</td><td>Male</td><td>38</td></tr><tr><td>Austria</td><td>Female</td><td>37</td></tr><tr><td>Portugal</td><td>Female</td><td>37</td></tr><tr><td>Colombia</td><td>Male</td><td>37</td></tr><tr><td>Kenya</td><td>Female</td><td>34</td></tr><tr><td>Finland</td><td>Female</td><td>34</td></tr><tr><td>Cuba</td><td>Male</td><td>34</td></tr><tr><td>Chinese Taipei</td><td>Female</td><td>34</td></tr><tr><td>Dominican Republic</td><td>Male</td><td>34</td></tr><tr><td>Jamaica</td><td>Male</td><td>33</td></tr><tr><td>Argentina</td><td>Female</td><td>33</td></tr><tr><td>Israel</td><td>Female</td><td>33</td></tr><tr><td>Jamaica</td><td>Female</td><td>32</td></tr><tr><td>Uzbekistan</td><td>Female</td><td>31</td></tr><tr><td>IR Iran</td><td>Male</td><td>30</td></tr><tr><td>Chile</td><td>Male</td><td>30</td></tr><tr><td>Thailand</td><td>Female</td><td>28</td></tr><tr><td>Azerbaijan</td><td>Male</td><td>28</td></tr><tr><td>Cuba</td><td>Female</td><td>27</td></tr><tr><td>Puerto Rico</td><td>Male</td><td>27</td></tr><tr><td>Algeria</td><td>Male</td><td>27</td></tr><tr><td>Lithuania</td><td>Male</td><td>27</td></tr><tr><td>Chinese Taipei</td><td>Male</td><td>26</td></tr><tr><td>Dominican Republic</td><td>Female</td><td>25</td></tr><tr><td>Bulgaria</td><td>Female</td><td>25</td></tr><tr><td>Kazakhstan</td><td>Female</td><td>25</td></tr><tr><td>Puerto Rico</td><td>Female</td><td>24</td></tr><tr><td>Thailand</td><td>Male</td><td>24</td></tr><tr><td>Ecuador</td><td>Female</td><td>24</td></tr><tr><td>Lithuania</td><td>Female</td><td>24</td></tr><tr><td>EOR</td><td>Male</td><td>24</td></tr><tr><td>Iraq</td><td>Male</td><td>23</td></tr><tr><td>Uruguay</td><td>Male</td><td>23</td></tr><tr><td>Finland</td><td>Male</td><td>23</td></tr><tr><td>Nigeria</td><td>Male</td><td>23</td></tr><tr><td>Paraguay</td><td>Male</td><td>23</td></tr><tr><td>Zambia</td><td>Female</td><td>22</td></tr><tr><td>Mali</td><td>Male</td><td>22</td></tr><tr><td>Georgia</td><td>Male</td><td>21</td></tr><tr><td>Bulgaria</td><td>Male</td><td>21</td></tr><tr><td>Guinea</td><td>Male</td><td>20</td></tr><tr><td>Azerbaijan</td><td>Female</td><td>20</td></tr><tr><td>Samoa</td><td>Male</td><td>20</td></tr><tr><td>Algeria</td><td>Female</td><td>19</td></tr><tr><td>Fiji</td><td>Male</td><td>19</td></tr><tr><td>Mongolia</td><td>Female</td><td>18</td></tr><tr><td>Hong Kong, China</td><td>Female</td><td>18</td></tr><tr><td>Chile</td><td>Female</td><td>18</td></tr><tr><td>Morocco</td><td>Female</td><td>18</td></tr><tr><td>Ethiopia</td><td>Female</td><td>17</td></tr><tr><td>AIN</td><td>Female</td><td>17</td></tr><tr><td>Venezuela</td><td>Male</td><td>17</td></tr><tr><td>Peru</td><td>Female</td><td>17</td></tr><tr><td>Fiji</td><td>Female</td><td>17</td></tr><tr><td>Angola</td><td>Female</td><td>17</td></tr><tr><td>Latvia</td><td>Male</td><td>16</td></tr><tr><td>Estonia</td><td>Male</td><td>16</td></tr><tr><td>Ecuador</td><td>Male</td><td>16</td></tr><tr><td>Ethiopia</td><td>Male</td><td>16</td></tr><tr><td>Hong Kong, China</td><td>Male</td><td>16</td></tr><tr><td>Indonesia</td><td>Male</td><td>16</td></tr><tr><td>Montenegro</td><td>Male</td><td>16</td></tr><tr><td>Singapore</td><td>Female</td><td>16</td></tr><tr><td>Philippines</td><td>Female</td><td>15</td></tr><tr><td>Croatia</td><td>Female</td><td>15</td></tr><tr><td>AIN</td><td>Male</td><td>15</td></tr><tr><td>Slovakia</td><td>Female</td><td>14</td></tr><tr><td>Slovakia</td><td>Male</td><td>14</td></tr><tr><td>Venezuela</td><td>Female</td><td>14</td></tr><tr><td>Republic of Moldova</td><td>Male</td><td>14</td></tr><tr><td>Mongolia</td><td>Male</td><td>14</td></tr><tr><td>Tunisia</td><td>Female</td><td>14</td></tr><tr><td>Latvia</td><td>Female</td><td>13</td></tr><tr><td>Indonesia</td><td>Female</td><td>13</td></tr><tr><td>Malaysia</td><td>Male</td><td>13</td></tr><tr><td>Armenia</td><td>Male</td><td>13</td></tr><tr><td>Malaysia</td><td>Female</td><td>13</td></tr><tr><td>Uganda</td><td>Female</td><td>13</td></tr><tr><td>South Sudan</td><td>Male</td><td>13</td></tr><tr><td>EOR</td><td>Female</td><td>13</td></tr><tr><td>Republic of Moldova</td><td>Female</td><td>12</td></tr><tr><td>Vietnam</td><td>Female</td><td>12</td></tr><tr><td>Tunisia</td><td>Male</td><td>12</td></tr><tr><td>Botswana</td><td>Male</td><td>12</td></tr><tr><td>Qatar</td><td>Male</td><td>12</td></tr><tr><td>Uganda</td><td>Male</td><td>12</td></tr><tr><td>Bahamas</td><td>Male</td><td>11</td></tr><tr><td>IR Iran</td><td>Female</td><td>11</td></tr><tr><td>Kyrgyzstan</td><td>Male</td><td>11</td></tr><tr><td>Tajikistan</td><td>Male</td><td>11</td></tr><tr><td>DPR Korea</td><td>Female</td><td>10</td></tr><tr><td>Guatemala</td><td>Male</td><td>10</td></tr><tr><td>Trinidad and Tobago</td><td>Male</td><td>10</td></tr><tr><td>Cyprus</td><td>Female</td><td>9</td></tr><tr><td>Peru</td><td>Male</td><td>9</td></tr><tr><td>Côte d'Ivoire</td><td>Female</td><td>9</td></tr><tr><td>Zambia</td><td>Male</td><td>9</td></tr><tr><td>Jordan</td><td>Male</td><td>9</td></tr><tr><td>UA Emirates</td><td>Male</td><td>9</td></tr><tr><td>Estonia</td><td>Female</td><td>8</td></tr><tr><td>Eritrea</td><td>Male</td><td>8</td></tr><tr><td>Bahrain</td><td>Female</td><td>8</td></tr><tr><td>Angola</td><td>Male</td><td>8</td></tr><tr><td>Bahamas</td><td>Female</td><td>8</td></tr><tr><td>El Salvador</td><td>Male</td><td>7</td></tr><tr><td>Trinidad and Tobago</td><td>Female</td><td>7</td></tr><tr><td>Guam</td><td>Female</td><td>7</td></tr><tr><td>Senegal</td><td>Male</td><td>7</td></tr><tr><td>Georgia</td><td>Female</td><td>7</td></tr><tr><td>Philippines</td><td>Male</td><td>7</td></tr><tr><td>Singapore</td><td>Male</td><td>7</td></tr><tr><td>Mauritius</td><td>Male</td><td>7</td></tr><tr><td>Luxembourg</td><td>Male</td><td>7</td></tr><tr><td>Ghana</td><td>Male</td><td>7</td></tr><tr><td>Kosovo</td><td>Female</td><td>7</td></tr><tr><td>Paraguay</td><td>Female</td><td>6</td></tr><tr><td>Bahrain</td><td>Male</td><td>6</td></tr><tr><td>Guinea-Bissau</td><td>Male</td><td>6</td></tr><tr><td>Cyprus</td><td>Male</td><td>6</td></tr><tr><td>Nicaragua</td><td>Female</td><td>6</td></tr><tr><td>Palestine</td><td>Male</td><td>6</td></tr><tr><td>Saudi Arabia</td><td>Male</td><td>6</td></tr><tr><td>Luxembourg</td><td>Female</td><td>6</td></tr><tr><td>Guatemala</td><td>Female</td><td>6</td></tr><tr><td>Liberia</td><td>Male</td><td>5</td></tr><tr><td>Kuwait</td><td>Male</td><td>5</td></tr><tr><td>Panama</td><td>Female</td><td>5</td></tr><tr><td>Albania</td><td>Male</td><td>5</td></tr><tr><td>Zimbabwe</td><td>Male</td><td>5</td></tr><tr><td>Papua New Guinea</td><td>Male</td><td>5</td></tr><tr><td>Niger</td><td>Male</td><td>5</td></tr><tr><td>Djibouti</td><td>Male</td><td>5</td></tr><tr><td>Syria</td><td>Male</td><td>5</td></tr><tr><td>Burkina Faso</td><td>Male</td><td>5</td></tr><tr><td>Libya</td><td>Male</td><td>5</td></tr><tr><td>Kyrgyzstan</td><td>Female</td><td>5</td></tr><tr><td>Guinea</td><td>Female</td><td>5</td></tr><tr><td>Mauritius</td><td>Female</td><td>5</td></tr><tr><td>Lebanon</td><td>Male</td><td>5</td></tr><tr><td>Vanuatu</td><td>Female</td><td>4</td></tr><tr><td>Madagascar</td><td>Female</td><td>4</td></tr><tr><td>Grenada</td><td>Male</td><td>4</td></tr><tr><td>Haiti</td><td>Male</td><td>4</td></tr><tr><td>DPR Korea</td><td>Male</td><td>4</td></tr><tr><td>Vietnam</td><td>Male</td><td>4</td></tr><tr><td>Mozambique</td><td>Female</td><td>4</td></tr><tr><td>Cameroon</td><td>Female</td><td>4</td></tr><tr><td>Tanzania</td><td>Male</td><td>4</td></tr><tr><td>Lebanon</td><td>Female</td><td>4</td></tr><tr><td>Cabo Verde</td><td>Male</td><td>4</td></tr><tr><td>Kuwait</td><td>Female</td><td>4</td></tr><tr><td>Suriname</td><td>Male</td><td>4</td></tr><tr><td>Bermuda</td><td>Male</td><td>4</td></tr><tr><td>Virgin Islands, US</td><td>Male</td><td>4</td></tr><tr><td>Samoa</td><td>Female</td><td>4</td></tr><tr><td>Aruba</td><td>Male</td><td>4</td></tr><tr><td>Pakistan</td><td>Male</td><td>4</td></tr><tr><td>Bermuda</td><td>Female</td><td>4</td></tr><tr><td>North Macedonia</td><td>Male</td><td>4</td></tr><tr><td>Burundi</td><td>Male</td><td>4</td></tr><tr><td>Gambia</td><td>Male</td><td>4</td></tr><tr><td>Nepal</td><td>Female</td><td>4</td></tr><tr><td>UA Emirates</td><td>Female</td><td>4</td></tr><tr><td>Bangladesh</td><td>Male</td><td>4</td></tr><tr><td>Côte d'Ivoire</td><td>Male</td><td>4</td></tr><tr><td>Senegal</td><td>Female</td><td>4</td></tr><tr><td>Uruguay</td><td>Female</td><td>4</td></tr><tr><td>Rwanda</td><td>Female</td><td>4</td></tr><tr><td>Sierra Leone</td><td>Female</td><td>3</td></tr><tr><td>Gabon</td><td>Female</td><td>3</td></tr><tr><td>Honduras</td><td>Male</td><td>3</td></tr><tr><td>Jordan</td><td>Female</td><td>3</td></tr><tr><td>Guyana</td><td>Female</td><td>3</td></tr><tr><td>Iceland</td><td>Female</td><td>3</td></tr><tr><td>Pakistan</td><td>Female</td><td>3</td></tr><tr><td>Tanzania</td><td>Female</td><td>3</td></tr><tr><td>Gambia</td><td>Female</td><td>3</td></tr><tr><td>Afghanistan</td><td>Female</td><td>3</td></tr><tr><td>Virgin Islands, B</td><td>Male</td><td>3</td></tr><tr><td>Saint Lucia</td><td>Male</td><td>3</td></tr><tr><td>Monaco</td><td>Female</td><td>3</td></tr><tr><td>Montenegro</td><td>Female</td><td>3</td></tr><tr><td>Lao PDR</td><td>Female</td><td>3</td></tr><tr><td>Comoros</td><td>Male</td><td>3</td></tr><tr><td>Oman</td><td>Male</td><td>3</td></tr><tr><td>Maldives</td><td>Female</td><td>3</td></tr><tr><td>Malta</td><td>Male</td><td>3</td></tr><tr><td>Cabo Verde</td><td>Female</td><td>3</td></tr><tr><td>Benin</td><td>Male</td><td>3</td></tr><tr><td>Haiti</td><td>Female</td><td>3</td></tr><tr><td>Turkmenistan</td><td>Male</td><td>3</td></tr><tr><td>Liberia</td><td>Female</td><td>3</td></tr><tr><td>Costa Rica</td><td>Female</td><td>3</td></tr><tr><td>Togo</td><td>Female</td><td>3</td></tr><tr><td>Costa Rica</td><td>Male</td><td>3</td></tr><tr><td>Albania</td><td>Female</td><td>3</td></tr><tr><td>DR Congo</td><td>Male</td><td>3</td></tr><tr><td>Rwanda</td><td>Male</td><td>3</td></tr><tr><td>Tajikistan</td><td>Female</td><td>3</td></tr><tr><td>Nepal</td><td>Male</td><td>3</td></tr><tr><td>Yemen</td><td>Male</td><td>3</td></tr><tr><td>Eritrea</td><td>Female</td><td>3</td></tr><tr><td>Sri Lanka</td><td>Male</td><td>3</td></tr><tr><td>San Marino</td><td>Female</td><td>3</td></tr><tr><td>Antigua and Barbuda</td><td>Male</td><td>3</td></tr><tr><td>Sudan</td><td>Male</td><td>3</td></tr><tr><td>DR Congo</td><td>Female</td><td>3</td></tr><tr><td>Panama</td><td>Male</td><td>3</td></tr><tr><td>Monaco</td><td>Male</td><td>3</td></tr><tr><td>Sri Lanka</td><td>Female</td><td>3</td></tr><tr><td>Bosnia & Herzegovina</td><td>Female</td><td>3</td></tr><tr><td>Afghanistan</td><td>Male</td><td>3</td></tr><tr><td>Burundi</td><td>Female</td><td>3</td></tr><tr><td>Turkmenistan</td><td>Female</td><td>3</td></tr><tr><td>Madagascar</td><td>Male</td><td>3</td></tr><tr><td>Mozambique</td><td>Male</td><td>3</td></tr><tr><td>Burkina Faso</td><td>Female</td><td>3</td></tr><tr><td>Namibia</td><td>Male</td><td>2</td></tr><tr><td>Centr Afric Re</td><td>Female</td><td>2</td></tr><tr><td>Antigua and Barbuda</td><td>Female</td><td>2</td></tr><tr><td>StVincent&Grenadines</td><td>Female</td><td>2</td></tr><tr><td>Togo</td><td>Male</td><td>2</td></tr><tr><td>Eswatini</td><td>Male</td><td>2</td></tr><tr><td>Bosnia & Herzegovina</td><td>Male</td><td>2</td></tr><tr><td>Armenia</td><td>Female</td><td>2</td></tr><tr><td>Ghana</td><td>Female</td><td>2</td></tr><tr><td>St Kitts and Nevis</td><td>Male</td><td>2</td></tr><tr><td>Papua New Guinea</td><td>Female</td><td>2</td></tr><tr><td>Vanuatu</td><td>Male</td><td>2</td></tr><tr><td>Bhutan</td><td>Male</td><td>2</td></tr><tr><td>Guyana</td><td>Male</td><td>2</td></tr><tr><td>Barbados</td><td>Female</td><td>2</td></tr><tr><td>Tonga</td><td>Male</td><td>2</td></tr><tr><td>Gabon</td><td>Male</td><td>2</td></tr><tr><td>San Marino</td><td>Male</td><td>2</td></tr><tr><td>Timor-Leste</td><td>Male</td><td>2</td></tr><tr><td>Marshall Islands</td><td>Male</td><td>2</td></tr><tr><td>Namibia</td><td>Female</td><td>2</td></tr><tr><td>Djibouti</td><td>Female</td><td>2</td></tr><tr><td>Congo</td><td>Female</td><td>2</td></tr><tr><td>Congo</td><td>Male</td><td>2</td></tr><tr><td>Micronesia</td><td>Male</td><td>2</td></tr><tr><td>Iceland</td><td>Male</td><td>2</td></tr><tr><td>Maldives</td><td>Male</td><td>2</td></tr><tr><td>Dominica</td><td>Female</td><td>2</td></tr><tr><td>Zimbabwe</td><td>Female</td><td>2</td></tr><tr><td>North Macedonia</td><td>Female</td><td>2</td></tr><tr><td>Dominica</td><td>Male</td><td>2</td></tr><tr><td>Palau</td><td>Female</td><td>2</td></tr><tr><td>Cameroon</td><td>Male</td><td>2</td></tr><tr><td>Aruba</td><td>Female</td><td>2</td></tr><tr><td>Seychelles</td><td>Male</td><td>2</td></tr><tr><td>Mali</td><td>Female</td><td>2</td></tr><tr><td>Centr Afric Re</td><td>Male</td><td>2</td></tr><tr><td>Cayman Islands</td><td>Male</td><td>2</td></tr><tr><td>Cambodia</td><td>Male</td><td>2</td></tr><tr><td>Palestine</td><td>Female</td><td>2</td></tr><tr><td>Timor-Leste</td><td>Female</td><td>2</td></tr><tr><td>Bolivia</td><td>Male</td><td>2</td></tr><tr><td>Benin</td><td>Female</td><td>2</td></tr><tr><td>Brunei Darussalam</td><td>Male</td><td>2</td></tr><tr><td>Kiribati</td><td>Male</td><td>2</td></tr><tr><td>Bolivia</td><td>Female</td><td>2</td></tr><tr><td>Kosovo</td><td>Male</td><td>2</td></tr><tr><td>Equatorial Guinea</td><td>Male</td><td>2</td></tr><tr><td>Marshall Islands</td><td>Female</td><td>2</td></tr><tr><td>Cayman Islands</td><td>Female</td><td>2</td></tr><tr><td>Botswana</td><td>Female</td><td>2</td></tr><tr><td>Saudi Arabia</td><td>Female</td><td>2</td></tr><tr><td>Solomon Islands</td><td>Female</td><td>2</td></tr><tr><td>Grenada</td><td>Female</td><td>2</td></tr><tr><td>StVincent&Grenadines</td><td>Male</td><td>2</td></tr><tr><td>Tonga</td><td>Female</td><td>2</td></tr><tr><td>Chad</td><td>Male</td><td>2</td></tr><tr><td>Lesotho</td><td>Female</td><td>2</td></tr><tr><td>Barbados</td><td>Male</td><td>2</td></tr><tr><td>Sao Tome & Principe</td><td>Female</td><td>2</td></tr><tr><td>Niger</td><td>Female</td><td>2</td></tr><tr><td>Malta</td><td>Female</td><td>2</td></tr><tr><td>Malawi</td><td>Female</td><td>2</td></tr><tr><td>Suriname</td><td>Female</td><td>1</td></tr><tr><td>Libya</td><td>Female</td><td>1</td></tr><tr><td>Honduras</td><td>Female</td><td>1</td></tr><tr><td>Lao PDR</td><td>Male</td><td>1</td></tr><tr><td>Somalia</td><td>Male</td><td>1</td></tr><tr><td>American Samoa</td><td>Male</td><td>1</td></tr><tr><td>Myanmar</td><td>Male</td><td>1</td></tr><tr><td>Qatar</td><td>Female</td><td>1</td></tr><tr><td>Comoros</td><td>Female</td><td>1</td></tr><tr><td>Eswatini</td><td>Female</td><td>1</td></tr><tr><td>El Salvador</td><td>Female</td><td>1</td></tr><tr><td>Myanmar</td><td>Female</td><td>1</td></tr><tr><td>Sao Tome & Principe</td><td>Male</td><td>1</td></tr><tr><td>Liechtenstein</td><td>Male</td><td>1</td></tr><tr><td>Bangladesh</td><td>Female</td><td>1</td></tr><tr><td>Mauritania</td><td>Male</td><td>1</td></tr><tr><td>Cambodia</td><td>Female</td><td>1</td></tr><tr><td>Tuvalu</td><td>Female</td><td>1</td></tr><tr><td>Nicaragua</td><td>Male</td><td>1</td></tr><tr><td>Sierra Leone</td><td>Male</td><td>1</td></tr><tr><td>Chad</td><td>Female</td><td>1</td></tr><tr><td>Malawi</td><td>Male</td><td>1</td></tr><tr><td>Cook Islands</td><td>Female</td><td>1</td></tr><tr><td>Sudan</td><td>Female</td><td>1</td></tr><tr><td>Bhutan</td><td>Female</td><td>1</td></tr><tr><td>Oman</td><td>Female</td><td>1</td></tr><tr><td>Lesotho</td><td>Male</td><td>1</td></tr><tr><td>Equatorial Guinea</td><td>Female</td><td>1</td></tr><tr><td>Seychelles</td><td>Female</td><td>1</td></tr><tr><td>Brunei Darussalam</td><td>Female</td><td>1</td></tr><tr><td>Andorra</td><td>Female</td><td>1</td></tr><tr><td>American Samoa</td><td>Female</td><td>1</td></tr><tr><td>Saint Lucia</td><td>Female</td><td>1</td></tr><tr><td>Palau</td><td>Male</td><td>1</td></tr><tr><td>Kiribati</td><td>Female</td><td>1</td></tr><tr><td>Mauritania</td><td>Female</td><td>1</td></tr><tr><td>Yemen</td><td>Female</td><td>1</td></tr><tr><td>Andorra</td><td>Male</td><td>1</td></tr><tr><td>Syria</td><td>Female</td><td>1</td></tr><tr><td>South Sudan</td><td>Female</td><td>1</td></tr><tr><td>Guam</td><td>Male</td><td>1</td></tr><tr><td>Belize</td><td>Male</td><td>1</td></tr><tr><td>Micronesia</td><td>Female</td><td>1</td></tr><tr><td>Cook Islands</td><td>Male</td><td>1</td></tr><tr><td>Virgin Islands, B</td><td>Female</td><td>1</td></tr><tr><td>Tuvalu</td><td>Male</td><td>1</td></tr><tr><td>St Kitts and Nevis</td><td>Female</td><td>1</td></tr><tr><td>Nauru</td><td>Male</td><td>1</td></tr><tr><td>Virgin Islands, US</td><td>Female</td><td>1</td></tr></tbody></table></div>"
      ]
     },
     "metadata": {
      "application/vnd.databricks.v1+output": {
       "addedWidgets": {},
       "aggData": [],
       "aggError": "",
       "aggOverflow": false,
       "aggSchema": [],
       "aggSeriesLimitReached": false,
       "aggType": "",
       "arguments": {},
       "columnCustomDisplayInfos": {},
       "data": [
        [
         "United States",
         "Female",
         328
        ],
        [
         "France",
         "Male",
         305
        ],
        [
         "France",
         "Female",
         295
        ],
        [
         "United States",
         "Male",
         291
        ],
        [
         "Australia",
         "Female",
         265
        ],
        [
         "China",
         "Female",
         264
        ],
        [
         "Germany",
         "Male",
         232
        ],
        [
         "Japan",
         "Male",
         230
        ],
        [
         "Germany",
         "Female",
         225
        ],
        [
         "Australia",
         "Male",
         210
        ],
        [
         "Italy",
         "Male",
         205
        ],
        [
         "Canada",
         "Female",
         203
        ],
        [
         "Spain",
         "Female",
         202
        ],
        [
         "Japan",
         "Female",
         201
        ],
        [
         "Spain",
         "Male",
         199
        ],
        [
         "Italy",
         "Female",
         192
        ],
        [
         "Great Britain",
         "Female",
         178
        ],
        [
         "Netherlands",
         "Female",
         172
        ],
        [
         "Brazil",
         "Female",
         164
        ],
        [
         "Great Britain",
         "Male",
         164
        ],
        [
         "China",
         "Male",
         134
        ],
        [
         "Canada",
         "Male",
         129
        ],
        [
         "Brazil",
         "Male",
         126
        ],
        [
         "Poland",
         "Female",
         124
        ],
        [
         "Netherlands",
         "Male",
         117
        ],
        [
         "Argentina",
         "Male",
         110
        ],
        [
         "New Zealand",
         "Male",
         107
        ],
        [
         "Egypt",
         "Male",
         103
        ],
        [
         "Poland",
         "Male",
         102
        ],
        [
         "New Zealand",
         "Female",
         101
        ],
        [
         "Hungary",
         "Male",
         92
        ],
        [
         "Belgium",
         "Male",
         89
        ],
        [
         "Belgium",
         "Female",
         88
        ],
        [
         "Hungary",
         "Female",
         85
        ],
        [
         "Korea",
         "Female",
         81
        ],
        [
         "South Africa",
         "Male",
         78
        ],
        [
         "Ireland",
         "Male",
         74
        ],
        [
         "Denmark",
         "Female",
         74
        ],
        [
         "Ukraine",
         "Male",
         72
        ],
        [
         "Switzerland",
         "Male",
         71
        ],
        [
         "Serbia",
         "Male",
         70
        ],
        [
         "Ukraine",
         "Female",
         69
        ],
        [
         "Ireland",
         "Female",
         69
        ],
        [
         "Sweden",
         "Female",
         66
        ],
        [
         "India",
         "Male",
         66
        ],
        [
         "Switzerland",
         "Female",
         66
        ],
        [
         "Korea",
         "Male",
         66
        ],
        [
         "Mexico",
         "Female",
         63
        ],
        [
         "Nigeria",
         "Female",
         63
        ],
        [
         "South Africa",
         "Female",
         63
        ],
        [
         "Czechia",
         "Male",
         62
        ],
        [
         "Sweden",
         "Male",
         59
        ],
        [
         "Greece",
         "Male",
         59
        ],
        [
         "Croatia",
         "Male",
         58
        ],
        [
         "Denmark",
         "Male",
         57
        ],
        [
         "Uzbekistan",
         "Male",
         57
        ],
        [
         "Israel",
         "Male",
         56
        ],
        [
         "Norway",
         "Male",
         56
        ],
        [
         "Türkiye",
         "Female",
         54
        ],
        [
         "Egypt",
         "Female",
         54
        ],
        [
         "Kazakhstan",
         "Male",
         54
        ],
        [
         "Norway",
         "Female",
         53
        ],
        [
         "Colombia",
         "Female",
         51
        ],
        [
         "Romania",
         "Male",
         49
        ],
        [
         "Czechia",
         "Female",
         49
        ],
        [
         "Slovenia",
         "Male",
         48
        ],
        [
         "Türkiye",
         "Male",
         47
        ],
        [
         "Slovenia",
         "Female",
         47
        ],
        [
         "Austria",
         "Male",
         47
        ],
        [
         "Romania",
         "Female",
         47
        ],
        [
         "India",
         "Female",
         46
        ],
        [
         "Mexico",
         "Male",
         45
        ],
        [
         "Serbia",
         "Female",
         44
        ],
        [
         "Morocco",
         "Male",
         43
        ],
        [
         "Greece",
         "Female",
         41
        ],
        [
         "Kenya",
         "Male",
         40
        ],
        [
         "Portugal",
         "Male",
         38
        ],
        [
         "Austria",
         "Female",
         37
        ],
        [
         "Portugal",
         "Female",
         37
        ],
        [
         "Colombia",
         "Male",
         37
        ],
        [
         "Kenya",
         "Female",
         34
        ],
        [
         "Finland",
         "Female",
         34
        ],
        [
         "Cuba",
         "Male",
         34
        ],
        [
         "Chinese Taipei",
         "Female",
         34
        ],
        [
         "Dominican Republic",
         "Male",
         34
        ],
        [
         "Jamaica",
         "Male",
         33
        ],
        [
         "Argentina",
         "Female",
         33
        ],
        [
         "Israel",
         "Female",
         33
        ],
        [
         "Jamaica",
         "Female",
         32
        ],
        [
         "Uzbekistan",
         "Female",
         31
        ],
        [
         "IR Iran",
         "Male",
         30
        ],
        [
         "Chile",
         "Male",
         30
        ],
        [
         "Thailand",
         "Female",
         28
        ],
        [
         "Azerbaijan",
         "Male",
         28
        ],
        [
         "Cuba",
         "Female",
         27
        ],
        [
         "Puerto Rico",
         "Male",
         27
        ],
        [
         "Algeria",
         "Male",
         27
        ],
        [
         "Lithuania",
         "Male",
         27
        ],
        [
         "Chinese Taipei",
         "Male",
         26
        ],
        [
         "Dominican Republic",
         "Female",
         25
        ],
        [
         "Bulgaria",
         "Female",
         25
        ],
        [
         "Kazakhstan",
         "Female",
         25
        ],
        [
         "Puerto Rico",
         "Female",
         24
        ],
        [
         "Thailand",
         "Male",
         24
        ],
        [
         "Ecuador",
         "Female",
         24
        ],
        [
         "Lithuania",
         "Female",
         24
        ],
        [
         "EOR",
         "Male",
         24
        ],
        [
         "Iraq",
         "Male",
         23
        ],
        [
         "Uruguay",
         "Male",
         23
        ],
        [
         "Finland",
         "Male",
         23
        ],
        [
         "Nigeria",
         "Male",
         23
        ],
        [
         "Paraguay",
         "Male",
         23
        ],
        [
         "Zambia",
         "Female",
         22
        ],
        [
         "Mali",
         "Male",
         22
        ],
        [
         "Georgia",
         "Male",
         21
        ],
        [
         "Bulgaria",
         "Male",
         21
        ],
        [
         "Guinea",
         "Male",
         20
        ],
        [
         "Azerbaijan",
         "Female",
         20
        ],
        [
         "Samoa",
         "Male",
         20
        ],
        [
         "Algeria",
         "Female",
         19
        ],
        [
         "Fiji",
         "Male",
         19
        ],
        [
         "Mongolia",
         "Female",
         18
        ],
        [
         "Hong Kong, China",
         "Female",
         18
        ],
        [
         "Chile",
         "Female",
         18
        ],
        [
         "Morocco",
         "Female",
         18
        ],
        [
         "Ethiopia",
         "Female",
         17
        ],
        [
         "AIN",
         "Female",
         17
        ],
        [
         "Venezuela",
         "Male",
         17
        ],
        [
         "Peru",
         "Female",
         17
        ],
        [
         "Fiji",
         "Female",
         17
        ],
        [
         "Angola",
         "Female",
         17
        ],
        [
         "Latvia",
         "Male",
         16
        ],
        [
         "Estonia",
         "Male",
         16
        ],
        [
         "Ecuador",
         "Male",
         16
        ],
        [
         "Ethiopia",
         "Male",
         16
        ],
        [
         "Hong Kong, China",
         "Male",
         16
        ],
        [
         "Indonesia",
         "Male",
         16
        ],
        [
         "Montenegro",
         "Male",
         16
        ],
        [
         "Singapore",
         "Female",
         16
        ],
        [
         "Philippines",
         "Female",
         15
        ],
        [
         "Croatia",
         "Female",
         15
        ],
        [
         "AIN",
         "Male",
         15
        ],
        [
         "Slovakia",
         "Female",
         14
        ],
        [
         "Slovakia",
         "Male",
         14
        ],
        [
         "Venezuela",
         "Female",
         14
        ],
        [
         "Republic of Moldova",
         "Male",
         14
        ],
        [
         "Mongolia",
         "Male",
         14
        ],
        [
         "Tunisia",
         "Female",
         14
        ],
        [
         "Latvia",
         "Female",
         13
        ],
        [
         "Indonesia",
         "Female",
         13
        ],
        [
         "Malaysia",
         "Male",
         13
        ],
        [
         "Armenia",
         "Male",
         13
        ],
        [
         "Malaysia",
         "Female",
         13
        ],
        [
         "Uganda",
         "Female",
         13
        ],
        [
         "South Sudan",
         "Male",
         13
        ],
        [
         "EOR",
         "Female",
         13
        ],
        [
         "Republic of Moldova",
         "Female",
         12
        ],
        [
         "Vietnam",
         "Female",
         12
        ],
        [
         "Tunisia",
         "Male",
         12
        ],
        [
         "Botswana",
         "Male",
         12
        ],
        [
         "Qatar",
         "Male",
         12
        ],
        [
         "Uganda",
         "Male",
         12
        ],
        [
         "Bahamas",
         "Male",
         11
        ],
        [
         "IR Iran",
         "Female",
         11
        ],
        [
         "Kyrgyzstan",
         "Male",
         11
        ],
        [
         "Tajikistan",
         "Male",
         11
        ],
        [
         "DPR Korea",
         "Female",
         10
        ],
        [
         "Guatemala",
         "Male",
         10
        ],
        [
         "Trinidad and Tobago",
         "Male",
         10
        ],
        [
         "Cyprus",
         "Female",
         9
        ],
        [
         "Peru",
         "Male",
         9
        ],
        [
         "Côte d'Ivoire",
         "Female",
         9
        ],
        [
         "Zambia",
         "Male",
         9
        ],
        [
         "Jordan",
         "Male",
         9
        ],
        [
         "UA Emirates",
         "Male",
         9
        ],
        [
         "Estonia",
         "Female",
         8
        ],
        [
         "Eritrea",
         "Male",
         8
        ],
        [
         "Bahrain",
         "Female",
         8
        ],
        [
         "Angola",
         "Male",
         8
        ],
        [
         "Bahamas",
         "Female",
         8
        ],
        [
         "El Salvador",
         "Male",
         7
        ],
        [
         "Trinidad and Tobago",
         "Female",
         7
        ],
        [
         "Guam",
         "Female",
         7
        ],
        [
         "Senegal",
         "Male",
         7
        ],
        [
         "Georgia",
         "Female",
         7
        ],
        [
         "Philippines",
         "Male",
         7
        ],
        [
         "Singapore",
         "Male",
         7
        ],
        [
         "Mauritius",
         "Male",
         7
        ],
        [
         "Luxembourg",
         "Male",
         7
        ],
        [
         "Ghana",
         "Male",
         7
        ],
        [
         "Kosovo",
         "Female",
         7
        ],
        [
         "Paraguay",
         "Female",
         6
        ],
        [
         "Bahrain",
         "Male",
         6
        ],
        [
         "Guinea-Bissau",
         "Male",
         6
        ],
        [
         "Cyprus",
         "Male",
         6
        ],
        [
         "Nicaragua",
         "Female",
         6
        ],
        [
         "Palestine",
         "Male",
         6
        ],
        [
         "Saudi Arabia",
         "Male",
         6
        ],
        [
         "Luxembourg",
         "Female",
         6
        ],
        [
         "Guatemala",
         "Female",
         6
        ],
        [
         "Liberia",
         "Male",
         5
        ],
        [
         "Kuwait",
         "Male",
         5
        ],
        [
         "Panama",
         "Female",
         5
        ],
        [
         "Albania",
         "Male",
         5
        ],
        [
         "Zimbabwe",
         "Male",
         5
        ],
        [
         "Papua New Guinea",
         "Male",
         5
        ],
        [
         "Niger",
         "Male",
         5
        ],
        [
         "Djibouti",
         "Male",
         5
        ],
        [
         "Syria",
         "Male",
         5
        ],
        [
         "Burkina Faso",
         "Male",
         5
        ],
        [
         "Libya",
         "Male",
         5
        ],
        [
         "Kyrgyzstan",
         "Female",
         5
        ],
        [
         "Guinea",
         "Female",
         5
        ],
        [
         "Mauritius",
         "Female",
         5
        ],
        [
         "Lebanon",
         "Male",
         5
        ],
        [
         "Vanuatu",
         "Female",
         4
        ],
        [
         "Madagascar",
         "Female",
         4
        ],
        [
         "Grenada",
         "Male",
         4
        ],
        [
         "Haiti",
         "Male",
         4
        ],
        [
         "DPR Korea",
         "Male",
         4
        ],
        [
         "Vietnam",
         "Male",
         4
        ],
        [
         "Mozambique",
         "Female",
         4
        ],
        [
         "Cameroon",
         "Female",
         4
        ],
        [
         "Tanzania",
         "Male",
         4
        ],
        [
         "Lebanon",
         "Female",
         4
        ],
        [
         "Cabo Verde",
         "Male",
         4
        ],
        [
         "Kuwait",
         "Female",
         4
        ],
        [
         "Suriname",
         "Male",
         4
        ],
        [
         "Bermuda",
         "Male",
         4
        ],
        [
         "Virgin Islands, US",
         "Male",
         4
        ],
        [
         "Samoa",
         "Female",
         4
        ],
        [
         "Aruba",
         "Male",
         4
        ],
        [
         "Pakistan",
         "Male",
         4
        ],
        [
         "Bermuda",
         "Female",
         4
        ],
        [
         "North Macedonia",
         "Male",
         4
        ],
        [
         "Burundi",
         "Male",
         4
        ],
        [
         "Gambia",
         "Male",
         4
        ],
        [
         "Nepal",
         "Female",
         4
        ],
        [
         "UA Emirates",
         "Female",
         4
        ],
        [
         "Bangladesh",
         "Male",
         4
        ],
        [
         "Côte d'Ivoire",
         "Male",
         4
        ],
        [
         "Senegal",
         "Female",
         4
        ],
        [
         "Uruguay",
         "Female",
         4
        ],
        [
         "Rwanda",
         "Female",
         4
        ],
        [
         "Sierra Leone",
         "Female",
         3
        ],
        [
         "Gabon",
         "Female",
         3
        ],
        [
         "Honduras",
         "Male",
         3
        ],
        [
         "Jordan",
         "Female",
         3
        ],
        [
         "Guyana",
         "Female",
         3
        ],
        [
         "Iceland",
         "Female",
         3
        ],
        [
         "Pakistan",
         "Female",
         3
        ],
        [
         "Tanzania",
         "Female",
         3
        ],
        [
         "Gambia",
         "Female",
         3
        ],
        [
         "Afghanistan",
         "Female",
         3
        ],
        [
         "Virgin Islands, B",
         "Male",
         3
        ],
        [
         "Saint Lucia",
         "Male",
         3
        ],
        [
         "Monaco",
         "Female",
         3
        ],
        [
         "Montenegro",
         "Female",
         3
        ],
        [
         "Lao PDR",
         "Female",
         3
        ],
        [
         "Comoros",
         "Male",
         3
        ],
        [
         "Oman",
         "Male",
         3
        ],
        [
         "Maldives",
         "Female",
         3
        ],
        [
         "Malta",
         "Male",
         3
        ],
        [
         "Cabo Verde",
         "Female",
         3
        ],
        [
         "Benin",
         "Male",
         3
        ],
        [
         "Haiti",
         "Female",
         3
        ],
        [
         "Turkmenistan",
         "Male",
         3
        ],
        [
         "Liberia",
         "Female",
         3
        ],
        [
         "Costa Rica",
         "Female",
         3
        ],
        [
         "Togo",
         "Female",
         3
        ],
        [
         "Costa Rica",
         "Male",
         3
        ],
        [
         "Albania",
         "Female",
         3
        ],
        [
         "DR Congo",
         "Male",
         3
        ],
        [
         "Rwanda",
         "Male",
         3
        ],
        [
         "Tajikistan",
         "Female",
         3
        ],
        [
         "Nepal",
         "Male",
         3
        ],
        [
         "Yemen",
         "Male",
         3
        ],
        [
         "Eritrea",
         "Female",
         3
        ],
        [
         "Sri Lanka",
         "Male",
         3
        ],
        [
         "San Marino",
         "Female",
         3
        ],
        [
         "Antigua and Barbuda",
         "Male",
         3
        ],
        [
         "Sudan",
         "Male",
         3
        ],
        [
         "DR Congo",
         "Female",
         3
        ],
        [
         "Panama",
         "Male",
         3
        ],
        [
         "Monaco",
         "Male",
         3
        ],
        [
         "Sri Lanka",
         "Female",
         3
        ],
        [
         "Bosnia & Herzegovina",
         "Female",
         3
        ],
        [
         "Afghanistan",
         "Male",
         3
        ],
        [
         "Burundi",
         "Female",
         3
        ],
        [
         "Turkmenistan",
         "Female",
         3
        ],
        [
         "Madagascar",
         "Male",
         3
        ],
        [
         "Mozambique",
         "Male",
         3
        ],
        [
         "Burkina Faso",
         "Female",
         3
        ],
        [
         "Namibia",
         "Male",
         2
        ],
        [
         "Centr Afric Re",
         "Female",
         2
        ],
        [
         "Antigua and Barbuda",
         "Female",
         2
        ],
        [
         "StVincent&Grenadines",
         "Female",
         2
        ],
        [
         "Togo",
         "Male",
         2
        ],
        [
         "Eswatini",
         "Male",
         2
        ],
        [
         "Bosnia & Herzegovina",
         "Male",
         2
        ],
        [
         "Armenia",
         "Female",
         2
        ],
        [
         "Ghana",
         "Female",
         2
        ],
        [
         "St Kitts and Nevis",
         "Male",
         2
        ],
        [
         "Papua New Guinea",
         "Female",
         2
        ],
        [
         "Vanuatu",
         "Male",
         2
        ],
        [
         "Bhutan",
         "Male",
         2
        ],
        [
         "Guyana",
         "Male",
         2
        ],
        [
         "Barbados",
         "Female",
         2
        ],
        [
         "Tonga",
         "Male",
         2
        ],
        [
         "Gabon",
         "Male",
         2
        ],
        [
         "San Marino",
         "Male",
         2
        ],
        [
         "Timor-Leste",
         "Male",
         2
        ],
        [
         "Marshall Islands",
         "Male",
         2
        ],
        [
         "Namibia",
         "Female",
         2
        ],
        [
         "Djibouti",
         "Female",
         2
        ],
        [
         "Congo",
         "Female",
         2
        ],
        [
         "Congo",
         "Male",
         2
        ],
        [
         "Micronesia",
         "Male",
         2
        ],
        [
         "Iceland",
         "Male",
         2
        ],
        [
         "Maldives",
         "Male",
         2
        ],
        [
         "Dominica",
         "Female",
         2
        ],
        [
         "Zimbabwe",
         "Female",
         2
        ],
        [
         "North Macedonia",
         "Female",
         2
        ],
        [
         "Dominica",
         "Male",
         2
        ],
        [
         "Palau",
         "Female",
         2
        ],
        [
         "Cameroon",
         "Male",
         2
        ],
        [
         "Aruba",
         "Female",
         2
        ],
        [
         "Seychelles",
         "Male",
         2
        ],
        [
         "Mali",
         "Female",
         2
        ],
        [
         "Centr Afric Re",
         "Male",
         2
        ],
        [
         "Cayman Islands",
         "Male",
         2
        ],
        [
         "Cambodia",
         "Male",
         2
        ],
        [
         "Palestine",
         "Female",
         2
        ],
        [
         "Timor-Leste",
         "Female",
         2
        ],
        [
         "Bolivia",
         "Male",
         2
        ],
        [
         "Benin",
         "Female",
         2
        ],
        [
         "Brunei Darussalam",
         "Male",
         2
        ],
        [
         "Kiribati",
         "Male",
         2
        ],
        [
         "Bolivia",
         "Female",
         2
        ],
        [
         "Kosovo",
         "Male",
         2
        ],
        [
         "Equatorial Guinea",
         "Male",
         2
        ],
        [
         "Marshall Islands",
         "Female",
         2
        ],
        [
         "Cayman Islands",
         "Female",
         2
        ],
        [
         "Botswana",
         "Female",
         2
        ],
        [
         "Saudi Arabia",
         "Female",
         2
        ],
        [
         "Solomon Islands",
         "Female",
         2
        ],
        [
         "Grenada",
         "Female",
         2
        ],
        [
         "StVincent&Grenadines",
         "Male",
         2
        ],
        [
         "Tonga",
         "Female",
         2
        ],
        [
         "Chad",
         "Male",
         2
        ],
        [
         "Lesotho",
         "Female",
         2
        ],
        [
         "Barbados",
         "Male",
         2
        ],
        [
         "Sao Tome & Principe",
         "Female",
         2
        ],
        [
         "Niger",
         "Female",
         2
        ],
        [
         "Malta",
         "Female",
         2
        ],
        [
         "Malawi",
         "Female",
         2
        ],
        [
         "Suriname",
         "Female",
         1
        ],
        [
         "Libya",
         "Female",
         1
        ],
        [
         "Honduras",
         "Female",
         1
        ],
        [
         "Lao PDR",
         "Male",
         1
        ],
        [
         "Somalia",
         "Male",
         1
        ],
        [
         "American Samoa",
         "Male",
         1
        ],
        [
         "Myanmar",
         "Male",
         1
        ],
        [
         "Qatar",
         "Female",
         1
        ],
        [
         "Comoros",
         "Female",
         1
        ],
        [
         "Eswatini",
         "Female",
         1
        ],
        [
         "El Salvador",
         "Female",
         1
        ],
        [
         "Myanmar",
         "Female",
         1
        ],
        [
         "Sao Tome & Principe",
         "Male",
         1
        ],
        [
         "Liechtenstein",
         "Male",
         1
        ],
        [
         "Bangladesh",
         "Female",
         1
        ],
        [
         "Mauritania",
         "Male",
         1
        ],
        [
         "Cambodia",
         "Female",
         1
        ],
        [
         "Tuvalu",
         "Female",
         1
        ],
        [
         "Nicaragua",
         "Male",
         1
        ],
        [
         "Sierra Leone",
         "Male",
         1
        ],
        [
         "Chad",
         "Female",
         1
        ],
        [
         "Malawi",
         "Male",
         1
        ],
        [
         "Cook Islands",
         "Female",
         1
        ],
        [
         "Sudan",
         "Female",
         1
        ],
        [
         "Bhutan",
         "Female",
         1
        ],
        [
         "Oman",
         "Female",
         1
        ],
        [
         "Lesotho",
         "Male",
         1
        ],
        [
         "Equatorial Guinea",
         "Female",
         1
        ],
        [
         "Seychelles",
         "Female",
         1
        ],
        [
         "Brunei Darussalam",
         "Female",
         1
        ],
        [
         "Andorra",
         "Female",
         1
        ],
        [
         "American Samoa",
         "Female",
         1
        ],
        [
         "Saint Lucia",
         "Female",
         1
        ],
        [
         "Palau",
         "Male",
         1
        ],
        [
         "Kiribati",
         "Female",
         1
        ],
        [
         "Mauritania",
         "Female",
         1
        ],
        [
         "Yemen",
         "Female",
         1
        ],
        [
         "Andorra",
         "Male",
         1
        ],
        [
         "Syria",
         "Female",
         1
        ],
        [
         "South Sudan",
         "Female",
         1
        ],
        [
         "Guam",
         "Male",
         1
        ],
        [
         "Belize",
         "Male",
         1
        ],
        [
         "Micronesia",
         "Female",
         1
        ],
        [
         "Cook Islands",
         "Male",
         1
        ],
        [
         "Virgin Islands, B",
         "Female",
         1
        ],
        [
         "Tuvalu",
         "Male",
         1
        ],
        [
         "St Kitts and Nevis",
         "Female",
         1
        ],
        [
         "Nauru",
         "Male",
         1
        ],
        [
         "Virgin Islands, US",
         "Female",
         1
        ]
       ],
       "datasetInfos": [],
       "dbfsResultPath": null,
       "isJsonSchema": true,
       "metadata": {},
       "overflow": false,
       "plotOptions": {
        "customPlotOptions": {},
        "displayType": "table",
        "pivotAggregation": null,
        "pivotColumns": null,
        "xColumns": null,
        "yColumns": null
       },
       "removedWidgets": [],
       "schema": [
        {
         "metadata": "{}",
         "name": "country",
         "type": "\"string\""
        },
        {
         "metadata": "{}",
         "name": "Gender",
         "type": "\"string\""
        },
        {
         "metadata": "{}",
         "name": "count",
         "type": "\"long\""
        }
       ],
       "type": "table"
      }
     },
     "output_type": "display_data"
    },
    {
     "output_type": "display_data",
     "data": {
      "text/plain": [
       "Databricks visualization. Run in Databricks to view."
      ]
     },
     "metadata": {
      "application/vnd.databricks.v1.subcommand+json": {
       "baseErrorDetails": null,
       "bindings": {},
       "collapsed": false,
       "command": "%python\n__backend_agg_display_orig = display\n__backend_agg_dfs = []\ndef __backend_agg_display_new(df):\n    __backend_agg_df_modules = [\"pandas.core.frame\", \"databricks.koalas.frame\", \"pyspark.sql.dataframe\", \"pyspark.pandas.frame\", \"pyspark.sql.connect.dataframe\"]\n    if (type(df).__module__ in __backend_agg_df_modules and type(df).__name__ == 'DataFrame') or isinstance(df, list):\n        __backend_agg_dfs.append(df)\n\ndisplay = __backend_agg_display_new\n\ndef __backend_agg_user_code_fn():\n    import base64\n    exec(base64.standard_b64decode(\"ZGlzcGxheShhdGhsZXRlc19jbGVhbmVkLmdyb3VwQnkoY29sKCJjb3VudHJ5IiksIGNvbCgiR2VuZGVyIikpLmNvdW50KCkub3JkZXJCeShjb2woImNvdW50IikuZGVzYygpKSk=\").decode())\n\ntry:\n    # run user code\n    __backend_agg_user_code_fn()\n\n    #reset display function\n    display = __backend_agg_display_orig\n\n    if len(__backend_agg_dfs) > 0:\n        # create a temp view\n        if type(__backend_agg_dfs[0]).__module__ == \"databricks.koalas.frame\":\n            # koalas dataframe\n            __backend_agg_dfs[0].to_spark().createOrReplaceTempView(\"DatabricksViewc52451b\")\n        elif type(__backend_agg_dfs[0]).__module__ == \"pandas.core.frame\" or isinstance(__backend_agg_dfs[0], list):\n            # pandas dataframe\n            spark.createDataFrame(__backend_agg_dfs[0]).createOrReplaceTempView(\"DatabricksViewc52451b\")\n        else:\n            __backend_agg_dfs[0].createOrReplaceTempView(\"DatabricksViewc52451b\")\n        #run backend agg\n        display(spark.sql(\"\"\"WITH q AS (select * from DatabricksViewc52451b) SELECT `country`,SUM(`count`) `column_9a64e137132`,`Gender` FROM q GROUP BY `Gender`,`country`\"\"\"))\n    else:\n        displayHTML(\"dataframe no longer exists. If you're using dataframe.display(), use display(dataframe) instead.\")\n\n\nfinally:\n    spark.sql(\"drop view if exists DatabricksViewc52451b\")\n    display = __backend_agg_display_orig\n    del __backend_agg_display_new\n    del __backend_agg_display_orig\n    del __backend_agg_dfs\n    del __backend_agg_user_code_fn\n\n",
       "commandTitle": "Visualization 1",
       "commandType": "auto",
       "commandVersion": 0,
       "commentThread": [],
       "commentsVisible": false,
       "contentSha256Hex": null,
       "customPlotOptions": {
        "redashChart": [
         {
          "key": "type",
          "value": "CHART"
         },
         {
          "key": "options",
          "value": {
           "alignYAxesAtZero": true,
           "coefficient": 1,
           "columnConfigurationMap": {
            "series": {
             "column": "Gender",
             "id": "column_9a64e137134"
            },
            "x": {
             "column": "country",
             "id": "column_9a64e137127"
            },
            "y": [
             {
              "column": "count",
              "id": "column_9a64e137132",
              "transform": "SUM"
             }
            ]
           },
           "dateTimeFormat": "DD/MM/YYYY HH:mm",
           "direction": {
            "type": "counterclockwise"
           },
           "error_y": {
            "type": "data",
            "visible": true
           },
           "globalSeriesType": "column",
           "isAggregationOn": true,
           "legend": {
            "traceorder": "normal"
           },
           "missingValuesAsZero": true,
           "numberFormat": "0,0.[00000]",
           "percentFormat": "0[.]00%",
           "series": {
            "error_y": {
             "type": "data",
             "visible": true
            },
            "stacking": ""
           },
           "seriesOptions": {
            "Male": {
             "yAxis": 1
            },
            "column_9a64e137129": {
             "type": "column",
             "yAxis": 0
            },
            "column_9a64e137132": {
             "type": "column",
             "yAxis": 0
            }
           },
           "showDataLabels": false,
           "sizemode": "diameter",
           "sortX": true,
           "sortY": true,
           "swappedAxes": false,
           "textFormat": "",
           "useAggregationsUi": true,
           "valuesOptions": {},
           "version": 2,
           "xAxis": {
            "labels": {
             "enabled": true
            },
            "type": "-"
           },
           "yAxis": [
            {
             "type": "-"
            },
            {
             "opposite": true,
             "type": "-"
            }
           ]
          }
         }
        ]
       },
       "datasetPreviewNameToCmdIdMap": {},
       "diffDeletes": [],
       "diffInserts": [],
       "displayType": "redashChart",
       "error": null,
       "errorDetails": null,
       "errorSummary": null,
       "errorTraceType": null,
       "finishTime": 0,
       "globalVars": {},
       "guid": "",
       "height": "511",
       "hideCommandCode": false,
       "hideCommandResult": false,
       "iPythonMetadata": null,
       "inputWidgets": {},
       "isLockedInExamMode": false,
       "latestUser": "a user",
       "latestUserId": null,
       "listResultMetadata": null,
       "metadata": {},
       "nuid": "7172a846-fa56-4e94-8d82-627130db72be",
       "origId": 0,
       "parentHierarchy": [],
       "pivotAggregation": null,
       "pivotColumns": null,
       "position": 13.5,
       "resultDbfsErrorMessage": null,
       "resultDbfsStatus": "INLINED_IN_TREE",
       "results": null,
       "showCommandTitle": false,
       "startTime": 0,
       "state": "input",
       "streamStates": {},
       "subcommandOptions": {
        "queryPlan": {
         "groups": [
          {
           "column": "country",
           "type": "column"
          },
          {
           "column": "Gender",
           "type": "column"
          }
         ],
         "selects": [
          {
           "column": "country",
           "type": "column"
          },
          {
           "alias": "column_9a64e137132",
           "args": [
            {
             "column": "count",
             "type": "column"
            }
           ],
           "function": "SUM",
           "type": "function"
          },
          {
           "column": "Gender",
           "type": "column"
          }
         ]
        }
       },
       "submitTime": 0,
       "subtype": "tableResultSubCmd.visualization",
       "tableResultIndex": 0,
       "tableResultSettingsMap": {},
       "useConsistentColors": false,
       "version": "CommandV1",
       "width": "1102",
       "workflows": [],
       "xColumns": null,
       "yColumns": null
      }
     },
     "output_type": "display_data"
    }
   ],
   "source": [
    "display(athletes_cleaned.groupBy(col(\"country\"), col(\"Gender\")).count().orderBy(col(\"count\").desc()))"
   ]
  },
  {
   "cell_type": "markdown",
   "metadata": {
    "application/vnd.databricks.v1+cell": {
     "cellMetadata": {
      "byteLimit": 2048000,
      "rowLimit": 10000
     },
     "inputWidgets": {},
     "nuid": "a078ee98-455e-469e-9656-59f71452c1fb",
     "showTitle": false,
     "tableResultSettingsMap": {},
     "title": ""
    }
   },
   "source": [
    "## Event-type with most participation"
   ]
  },
  {
   "cell_type": "code",
   "execution_count": 0,
   "metadata": {
    "application/vnd.databricks.v1+cell": {
     "cellMetadata": {
      "byteLimit": 2048000,
      "rowLimit": 10000
     },
     "inputWidgets": {},
     "nuid": "bb7c0bc7-e12c-483e-987e-fc4a86057880",
     "showTitle": false,
     "tableResultSettingsMap": {
      "0": {
       "dataGridStateBlob": "{\"version\":1,\"tableState\":{\"columnPinning\":{\"left\":[\"#row_number#\"],\"right\":[]},\"columnSizing\":{},\"columnVisibility\":{}},\"settings\":{\"columns\":{}},\"syncTimestamp\":1754061381206}",
       "filterBlob": null,
       "queryPlanFiltersBlob": null,
       "tableResultIndex": 0
      }
     },
     "title": ""
    }
   },
   "outputs": [
    {
     "output_type": "display_data",
     "data": {
      "text/html": [
       "<style scoped>\n",
       "  .table-result-container {\n",
       "    max-height: 300px;\n",
       "    overflow: auto;\n",
       "  }\n",
       "  table, th, td {\n",
       "    border: 1px solid black;\n",
       "    border-collapse: collapse;\n",
       "  }\n",
       "  th, td {\n",
       "    padding: 5px;\n",
       "  }\n",
       "  th {\n",
       "    text-align: left;\n",
       "  }\n",
       "</style><div class='table-result-container'><table class='table-result'><thead style='background-color: white'><tr><th>sport</th><th>count</th></tr></thead><tbody><tr><td>Athletics</td><td>48</td></tr><tr><td>Swimming</td><td>35</td></tr><tr><td>Wrestling</td><td>18</td></tr><tr><td>Judo</td><td>15</td></tr><tr><td>Shooting</td><td>15</td></tr><tr><td>Rowing</td><td>14</td></tr><tr><td>Artistic Gymnastics</td><td>14</td></tr><tr><td>Boxing</td><td>13</td></tr><tr><td>Cycling Track </td><td>12</td></tr><tr><td>Fencing</td><td>12</td></tr><tr><td>Sailing</td><td>10</td></tr><tr><td>Canoe Sprint</td><td>10</td></tr><tr><td>Weightlifting</td><td>10</td></tr><tr><td>Diving</td><td>8</td></tr><tr><td>Taekwondo</td><td>8</td></tr><tr><td>Equestrian</td><td>6</td></tr><tr><td>Canoe Slalom</td><td>6</td></tr><tr><td>Tennis</td><td>5</td></tr><tr><td>Badminton</td><td>5</td></tr><tr><td>Table Tennis</td><td>5</td></tr><tr><td>Archery</td><td>5</td></tr><tr><td>Skateboarding</td><td>4</td></tr><tr><td>Cycling Road</td><td>4</td></tr><tr><td>Sport Climbing</td><td>4</td></tr><tr><td>Triathlon</td><td>3</td></tr><tr><td>Marathon Swimming</td><td>2</td></tr><tr><td>Golf</td><td>2</td></tr><tr><td>Cycling BMX Freestyle</td><td>2</td></tr><tr><td>Basketball</td><td>2</td></tr><tr><td>Handball</td><td>2</td></tr><tr><td>Rhythmic Gymnastics</td><td>2</td></tr><tr><td>Beach Volleyball</td><td>2</td></tr><tr><td>Breaking</td><td>2</td></tr><tr><td>Rugby Sevens</td><td>2</td></tr><tr><td>Cycling Mountain Bike</td><td>2</td></tr><tr><td>Water Polo</td><td>2</td></tr><tr><td>Surfing</td><td>2</td></tr><tr><td>Cycling BMX Racing</td><td>2</td></tr><tr><td>Modern Pentathlon</td><td>2</td></tr><tr><td>Volleyball</td><td>2</td></tr><tr><td>Basketball 3x3</td><td>2</td></tr><tr><td>Artistic Swimming</td><td>2</td></tr><tr><td>Hockey</td><td>2</td></tr><tr><td>Football</td><td>2</td></tr><tr><td>Trampoline</td><td>2</td></tr></tbody></table></div>"
      ]
     },
     "metadata": {
      "application/vnd.databricks.v1+output": {
       "addedWidgets": {},
       "aggData": [],
       "aggError": "",
       "aggOverflow": false,
       "aggSchema": [],
       "aggSeriesLimitReached": false,
       "aggType": "",
       "arguments": {},
       "columnCustomDisplayInfos": {},
       "data": [
        [
         "Athletics",
         48
        ],
        [
         "Swimming",
         35
        ],
        [
         "Wrestling",
         18
        ],
        [
         "Judo",
         15
        ],
        [
         "Shooting",
         15
        ],
        [
         "Rowing",
         14
        ],
        [
         "Artistic Gymnastics",
         14
        ],
        [
         "Boxing",
         13
        ],
        [
         "Cycling Track ",
         12
        ],
        [
         "Fencing",
         12
        ],
        [
         "Sailing",
         10
        ],
        [
         "Canoe Sprint",
         10
        ],
        [
         "Weightlifting",
         10
        ],
        [
         "Diving",
         8
        ],
        [
         "Taekwondo",
         8
        ],
        [
         "Equestrian",
         6
        ],
        [
         "Canoe Slalom",
         6
        ],
        [
         "Tennis",
         5
        ],
        [
         "Badminton",
         5
        ],
        [
         "Table Tennis",
         5
        ],
        [
         "Archery",
         5
        ],
        [
         "Skateboarding",
         4
        ],
        [
         "Cycling Road",
         4
        ],
        [
         "Sport Climbing",
         4
        ],
        [
         "Triathlon",
         3
        ],
        [
         "Marathon Swimming",
         2
        ],
        [
         "Golf",
         2
        ],
        [
         "Cycling BMX Freestyle",
         2
        ],
        [
         "Basketball",
         2
        ],
        [
         "Handball",
         2
        ],
        [
         "Rhythmic Gymnastics",
         2
        ],
        [
         "Beach Volleyball",
         2
        ],
        [
         "Breaking",
         2
        ],
        [
         "Rugby Sevens",
         2
        ],
        [
         "Cycling Mountain Bike",
         2
        ],
        [
         "Water Polo",
         2
        ],
        [
         "Surfing",
         2
        ],
        [
         "Cycling BMX Racing",
         2
        ],
        [
         "Modern Pentathlon",
         2
        ],
        [
         "Volleyball",
         2
        ],
        [
         "Basketball 3x3",
         2
        ],
        [
         "Artistic Swimming",
         2
        ],
        [
         "Hockey",
         2
        ],
        [
         "Football",
         2
        ],
        [
         "Trampoline",
         2
        ]
       ],
       "datasetInfos": [],
       "dbfsResultPath": null,
       "isJsonSchema": true,
       "metadata": {},
       "overflow": false,
       "plotOptions": {
        "customPlotOptions": {},
        "displayType": "table",
        "pivotAggregation": null,
        "pivotColumns": null,
        "xColumns": null,
        "yColumns": null
       },
       "removedWidgets": [],
       "schema": [
        {
         "metadata": "{}",
         "name": "sport",
         "type": "\"string\""
        },
        {
         "metadata": "{}",
         "name": "count",
         "type": "\"long\""
        }
       ],
       "type": "table"
      }
     },
     "output_type": "display_data"
    },
    {
     "output_type": "display_data",
     "data": {
      "text/plain": [
       "Databricks visualization. Run in Databricks to view."
      ]
     },
     "metadata": {
      "application/vnd.databricks.v1.subcommand+json": {
       "baseErrorDetails": null,
       "bindings": {},
       "collapsed": false,
       "command": "%python\n__backend_agg_display_orig = display\n__backend_agg_dfs = []\ndef __backend_agg_display_new(df):\n    __backend_agg_df_modules = [\"pandas.core.frame\", \"databricks.koalas.frame\", \"pyspark.sql.dataframe\", \"pyspark.pandas.frame\", \"pyspark.sql.connect.dataframe\"]\n    if (type(df).__module__ in __backend_agg_df_modules and type(df).__name__ == 'DataFrame') or isinstance(df, list):\n        __backend_agg_dfs.append(df)\n\ndisplay = __backend_agg_display_new\n\ndef __backend_agg_user_code_fn():\n    import base64\n    exec(base64.standard_b64decode(\"ZGlzcGxheShldmVudHMuZ3JvdXBCeShjb2woInNwb3J0IikpLmNvdW50KCkub3JkZXJCeShjb2woImNvdW50IikuZGVzYygpKSk=\").decode())\n\ntry:\n    # run user code\n    __backend_agg_user_code_fn()\n\n    #reset display function\n    display = __backend_agg_display_orig\n\n    if len(__backend_agg_dfs) > 0:\n        # create a temp view\n        if type(__backend_agg_dfs[0]).__module__ == \"databricks.koalas.frame\":\n            # koalas dataframe\n            __backend_agg_dfs[0].to_spark().createOrReplaceTempView(\"DatabricksView2b3a816\")\n        elif type(__backend_agg_dfs[0]).__module__ == \"pandas.core.frame\" or isinstance(__backend_agg_dfs[0], list):\n            # pandas dataframe\n            spark.createDataFrame(__backend_agg_dfs[0]).createOrReplaceTempView(\"DatabricksView2b3a816\")\n        else:\n            __backend_agg_dfs[0].createOrReplaceTempView(\"DatabricksView2b3a816\")\n        #run backend agg\n        display(spark.sql(\"\"\"WITH q AS (select * from DatabricksView2b3a816) SELECT `sport`,SUM(`count`) `column_9a64e137148` FROM q GROUP BY `sport`\"\"\"))\n    else:\n        displayHTML(\"dataframe no longer exists. If you're using dataframe.display(), use display(dataframe) instead.\")\n\n\nfinally:\n    spark.sql(\"drop view if exists DatabricksView2b3a816\")\n    display = __backend_agg_display_orig\n    del __backend_agg_display_new\n    del __backend_agg_display_orig\n    del __backend_agg_dfs\n    del __backend_agg_user_code_fn\n\n",
       "commandTitle": "Visualization 1",
       "commandType": "auto",
       "commandVersion": 0,
       "commentThread": [],
       "commentsVisible": false,
       "contentSha256Hex": null,
       "customPlotOptions": {
        "redashChart": [
         {
          "key": "type",
          "value": "CHART"
         },
         {
          "key": "options",
          "value": {
           "alignYAxesAtZero": true,
           "coefficient": 1,
           "columnConfigurationMap": {
            "x": {
             "column": "sport",
             "id": "column_9a64e137145"
            },
            "y": [
             {
              "column": "count",
              "id": "column_9a64e137148",
              "transform": "SUM"
             }
            ]
           },
           "dateTimeFormat": "DD/MM/YYYY HH:mm",
           "direction": {
            "type": "counterclockwise"
           },
           "error_y": {
            "type": "data",
            "visible": true
           },
           "globalSeriesType": "pie",
           "isAggregationOn": true,
           "legend": {
            "traceorder": "normal"
           },
           "missingValuesAsZero": true,
           "numberFormat": "0,0.[00000]",
           "percentFormat": "0[.]00%",
           "series": {
            "error_y": {
             "type": "data",
             "visible": true
            },
            "stacking": null
           },
           "seriesOptions": {
            "column_9a64e137140": {
             "type": "pie",
             "yAxis": 0
            },
            "column_9a64e137148": {
             "type": "pie",
             "yAxis": 0
            }
           },
           "showDataLabels": true,
           "sizemode": "diameter",
           "sortX": true,
           "sortY": true,
           "swappedAxes": false,
           "textFormat": "",
           "useAggregationsUi": true,
           "valuesOptions": {},
           "version": 2,
           "xAxis": {
            "labels": {
             "enabled": true
            },
            "type": "-"
           },
           "yAxis": [
            {
             "type": "-"
            },
            {
             "opposite": true,
             "type": "-"
            }
           ]
          }
         }
        ]
       },
       "datasetPreviewNameToCmdIdMap": {},
       "diffDeletes": [],
       "diffInserts": [],
       "displayType": "redashChart",
       "error": null,
       "errorDetails": null,
       "errorSummary": null,
       "errorTraceType": null,
       "finishTime": 0,
       "globalVars": {},
       "guid": "",
       "height": "auto",
       "hideCommandCode": false,
       "hideCommandResult": false,
       "iPythonMetadata": null,
       "inputWidgets": {},
       "isLockedInExamMode": false,
       "latestUser": "a user",
       "latestUserId": null,
       "listResultMetadata": null,
       "metadata": {},
       "nuid": "4c8fb68d-ba64-46b6-b01c-71e17c4b644e",
       "origId": 0,
       "parentHierarchy": [],
       "pivotAggregation": null,
       "pivotColumns": null,
       "position": 15.0,
       "resultDbfsErrorMessage": null,
       "resultDbfsStatus": "INLINED_IN_TREE",
       "results": null,
       "showCommandTitle": false,
       "startTime": 0,
       "state": "input",
       "streamStates": {},
       "subcommandOptions": {
        "queryPlan": {
         "groups": [
          {
           "column": "sport",
           "type": "column"
          }
         ],
         "selects": [
          {
           "column": "sport",
           "type": "column"
          },
          {
           "alias": "column_9a64e137148",
           "args": [
            {
             "column": "count",
             "type": "column"
            }
           ],
           "function": "SUM",
           "type": "function"
          }
         ]
        }
       },
       "submitTime": 0,
       "subtype": "tableResultSubCmd.visualization",
       "tableResultIndex": 0,
       "tableResultSettingsMap": {},
       "useConsistentColors": false,
       "version": "CommandV1",
       "width": "auto",
       "workflows": [],
       "xColumns": null,
       "yColumns": null
      }
     },
     "output_type": "display_data"
    }
   ],
   "source": [
    "display(events.groupBy(col(\"sport\")).count().orderBy(col(\"count\").desc()))"
   ]
  },
  {
   "cell_type": "markdown",
   "metadata": {
    "application/vnd.databricks.v1+cell": {
     "cellMetadata": {},
     "inputWidgets": {},
     "nuid": "12916d04-7531-46e7-8ee9-bc4c13820be1",
     "showTitle": false,
     "tableResultSettingsMap": {},
     "title": ""
    }
   },
   "source": [
    "## Medal Efficiency Country-Wise"
   ]
  },
  {
   "cell_type": "code",
   "execution_count": 0,
   "metadata": {
    "application/vnd.databricks.v1+cell": {
     "cellMetadata": {
      "byteLimit": 2048000,
      "rowLimit": 10000
     },
     "inputWidgets": {},
     "nuid": "128e1575-7d71-456a-9a77-76083175d20c",
     "showTitle": false,
     "tableResultSettingsMap": {
      "0": {
       "dataGridStateBlob": "{\"version\":1,\"tableState\":{\"columnPinning\":{\"left\":[\"#row_number#\"],\"right\":[]},\"columnSizing\":{\"country\":158},\"columnVisibility\":{}},\"settings\":{\"columns\":{}},\"syncTimestamp\":1754070434601}",
       "filterBlob": "{\"version\":1,\"filterGroups\":[{\"enabled\":true,\"filterGroupId\":\"fg_bbbf3d01\",\"op\":\"OR\",\"filters\":[{\"filterId\":\"f_fcffd581\",\"enabled\":true,\"columnId\":\"country\",\"dataType\":\"string\",\"filterType\":\"oneof\",\"filterValues\":[],\"filterConfig\":{\"caseSensitive\":true}}],\"local\":false,\"updatedAt\":1754070490420}],\"syncTimestamp\":1754070490426}",
       "queryPlanFiltersBlob": "[]",
       "tableResultIndex": 0
      }
     },
     "title": ""
    }
   },
   "outputs": [
    {
     "output_type": "display_data",
     "data": {
      "text/html": [
       "<style scoped>\n",
       "  .table-result-container {\n",
       "    max-height: 300px;\n",
       "    overflow: auto;\n",
       "  }\n",
       "  table, th, td {\n",
       "    border: 1px solid black;\n",
       "    border-collapse: collapse;\n",
       "  }\n",
       "  th, td {\n",
       "    padding: 5px;\n",
       "  }\n",
       "  th {\n",
       "    text-align: left;\n",
       "  }\n",
       "</style><div class='table-result-container'><table class='table-result'><thead style='background-color: white'><tr><th>country</th><th>Total_Medals</th><th>Total_Athletes</th><th>Efficiency</th></tr></thead><tbody><tr><td>Saint Lucia</td><td>2</td><td>4</td><td>50.0</td></tr><tr><td>DPR Korea</td><td>6</td><td>14</td><td>42.86</td></tr><tr><td>Kyrgyzstan</td><td>6</td><td>16</td><td>37.5</td></tr><tr><td>Grenada</td><td>2</td><td>6</td><td>33.33</td></tr><tr><td>IR Iran</td><td>12</td><td>41</td><td>29.27</td></tr><tr><td>Bahrain</td><td>4</td><td>14</td><td>28.57</td></tr><tr><td>Armenia</td><td>4</td><td>15</td><td>26.67</td></tr><tr><td>Dominica</td><td>1</td><td>4</td><td>25.0</td></tr><tr><td>Albania</td><td>2</td><td>8</td><td>25.0</td></tr><tr><td>Georgia</td><td>7</td><td>28</td><td>25.0</td></tr><tr><td>China</td><td>91</td><td>398</td><td>22.86</td></tr><tr><td>Kosovo</td><td>2</td><td>9</td><td>22.22</td></tr><tr><td>Korea</td><td>32</td><td>147</td><td>21.77</td></tr><tr><td>Tajikistan</td><td>3</td><td>14</td><td>21.43</td></tr><tr><td>United States</td><td>126</td><td>619</td><td>20.36</td></tr><tr><td>Great Britain</td><td>65</td><td>342</td><td>19.01</td></tr><tr><td>Philippines</td><td>4</td><td>22</td><td>18.18</td></tr><tr><td>AIN</td><td>5</td><td>32</td><td>15.63</td></tr><tr><td>Republic of Moldova</td><td>4</td><td>26</td><td>15.38</td></tr><tr><td>Bulgaria</td><td>7</td><td>46</td><td>15.22</td></tr><tr><td>Kenya</td><td>11</td><td>74</td><td>14.86</td></tr><tr><td>Uzbekistan</td><td>13</td><td>88</td><td>14.77</td></tr><tr><td>Cuba</td><td>9</td><td>61</td><td>14.75</td></tr><tr><td>Azerbaijan</td><td>7</td><td>48</td><td>14.58</td></tr><tr><td>Botswana</td><td>2</td><td>14</td><td>14.29</td></tr><tr><td>Pakistan</td><td>1</td><td>7</td><td>14.29</td></tr><tr><td>Cabo Verde</td><td>1</td><td>7</td><td>14.29</td></tr><tr><td>Guatemala</td><td>2</td><td>16</td><td>12.5</td></tr><tr><td>Panama</td><td>1</td><td>8</td><td>12.5</td></tr><tr><td>Ecuador</td><td>5</td><td>40</td><td>12.5</td></tr><tr><td>Ethiopia</td><td>4</td><td>33</td><td>12.12</td></tr><tr><td>Netherlands</td><td>34</td><td>289</td><td>11.76</td></tr><tr><td>Hong Kong, China</td><td>4</td><td>34</td><td>11.76</td></tr><tr><td>Chinese Taipei</td><td>7</td><td>60</td><td>11.67</td></tr><tr><td>Thailand</td><td>6</td><td>52</td><td>11.54</td></tr><tr><td>Tunisia</td><td>3</td><td>26</td><td>11.54</td></tr><tr><td>Australia</td><td>53</td><td>475</td><td>11.16</td></tr><tr><td>Hungary</td><td>19</td><td>177</td><td>10.73</td></tr><tr><td>France</td><td>64</td><td>600</td><td>10.67</td></tr><tr><td>Japan</td><td>45</td><td>431</td><td>10.44</td></tr><tr><td>Italy</td><td>40</td><td>397</td><td>10.08</td></tr><tr><td>New Zealand</td><td>20</td><td>208</td><td>9.62</td></tr><tr><td>Croatia</td><td>7</td><td>73</td><td>9.59</td></tr><tr><td>Romania</td><td>9</td><td>96</td><td>9.38</td></tr><tr><td>Jamaica</td><td>6</td><td>65</td><td>9.23</td></tr><tr><td>Kazakhstan</td><td>7</td><td>79</td><td>8.86</td></tr><tr><td>Sweden</td><td>11</td><td>125</td><td>8.8</td></tr><tr><td>Ukraine</td><td>12</td><td>141</td><td>8.51</td></tr><tr><td>Jordan</td><td>1</td><td>12</td><td>8.33</td></tr><tr><td>Canada</td><td>27</td><td>332</td><td>8.13</td></tr><tr><td>Uganda</td><td>2</td><td>25</td><td>8.0</td></tr><tr><td>Greece</td><td>8</td><td>100</td><td>8.0</td></tr><tr><td>Türkiye</td><td>8</td><td>101</td><td>7.92</td></tr><tr><td>Israel</td><td>7</td><td>89</td><td>7.87</td></tr><tr><td>Lithuania</td><td>4</td><td>51</td><td>7.84</td></tr><tr><td>Qatar</td><td>1</td><td>13</td><td>7.69</td></tr><tr><td>Côte d'Ivoire</td><td>1</td><td>13</td><td>7.69</td></tr><tr><td>Malaysia</td><td>2</td><td>26</td><td>7.69</td></tr><tr><td>Norway</td><td>8</td><td>109</td><td>7.34</td></tr><tr><td>Germany</td><td>33</td><td>457</td><td>7.22</td></tr><tr><td>Brazil</td><td>20</td><td>290</td><td>6.9</td></tr><tr><td>Indonesia</td><td>2</td><td>29</td><td>6.9</td></tr><tr><td>Denmark</td><td>9</td><td>131</td><td>6.87</td></tr><tr><td>Cyprus</td><td>1</td><td>15</td><td>6.67</td></tr><tr><td>Algeria</td><td>3</td><td>46</td><td>6.52</td></tr><tr><td>Austria</td><td>5</td><td>84</td><td>5.95</td></tr><tr><td>Switzerland</td><td>8</td><td>137</td><td>5.84</td></tr><tr><td>Belgium</td><td>10</td><td>177</td><td>5.65</td></tr><tr><td>India</td><td>6</td><td>112</td><td>5.36</td></tr><tr><td>Portugal</td><td>4</td><td>75</td><td>5.33</td></tr><tr><td>Dominican Republic</td><td>3</td><td>59</td><td>5.08</td></tr><tr><td>Ireland</td><td>7</td><td>143</td><td>4.9</td></tr><tr><td>Mexico</td><td>5</td><td>108</td><td>4.63</td></tr><tr><td>Colombia</td><td>4</td><td>88</td><td>4.55</td></tr><tr><td>Czechia</td><td>5</td><td>111</td><td>4.5</td></tr><tr><td>Spain</td><td>18</td><td>401</td><td>4.49</td></tr><tr><td>Poland</td><td>10</td><td>226</td><td>4.42</td></tr><tr><td>Serbia</td><td>5</td><td>114</td><td>4.39</td></tr><tr><td>Singapore</td><td>1</td><td>23</td><td>4.35</td></tr><tr><td>South Africa</td><td>6</td><td>141</td><td>4.26</td></tr><tr><td>Chile</td><td>2</td><td>48</td><td>4.17</td></tr><tr><td>Puerto Rico</td><td>2</td><td>51</td><td>3.92</td></tr><tr><td>Peru</td><td>1</td><td>26</td><td>3.85</td></tr><tr><td>Slovakia</td><td>1</td><td>28</td><td>3.57</td></tr><tr><td>Morocco</td><td>2</td><td>61</td><td>3.28</td></tr><tr><td>Zambia</td><td>1</td><td>31</td><td>3.23</td></tr><tr><td>Slovenia</td><td>3</td><td>95</td><td>3.16</td></tr><tr><td>Mongolia</td><td>1</td><td>32</td><td>3.13</td></tr><tr><td>Fiji</td><td>1</td><td>36</td><td>2.78</td></tr><tr><td>EOR</td><td>1</td><td>37</td><td>2.7</td></tr><tr><td>Argentina</td><td>3</td><td>143</td><td>2.1</td></tr><tr><td>Egypt</td><td>3</td><td>157</td><td>1.91</td></tr></tbody></table></div>"
      ]
     },
     "metadata": {
      "application/vnd.databricks.v1+output": {
       "addedWidgets": {},
       "aggData": [],
       "aggError": "",
       "aggOverflow": false,
       "aggSchema": [],
       "aggSeriesLimitReached": false,
       "aggType": "",
       "arguments": {},
       "columnCustomDisplayInfos": {},
       "data": [
        [
         "Saint Lucia",
         "2",
         4,
         50.0
        ],
        [
         "DPR Korea",
         "6",
         14,
         42.86
        ],
        [
         "Kyrgyzstan",
         "6",
         16,
         37.5
        ],
        [
         "Grenada",
         "2",
         6,
         33.33
        ],
        [
         "IR Iran",
         "12",
         41,
         29.27
        ],
        [
         "Bahrain",
         "4",
         14,
         28.57
        ],
        [
         "Armenia",
         "4",
         15,
         26.67
        ],
        [
         "Dominica",
         "1",
         4,
         25.0
        ],
        [
         "Albania",
         "2",
         8,
         25.0
        ],
        [
         "Georgia",
         "7",
         28,
         25.0
        ],
        [
         "China",
         "91",
         398,
         22.86
        ],
        [
         "Kosovo",
         "2",
         9,
         22.22
        ],
        [
         "Korea",
         "32",
         147,
         21.77
        ],
        [
         "Tajikistan",
         "3",
         14,
         21.43
        ],
        [
         "United States",
         "126",
         619,
         20.36
        ],
        [
         "Great Britain",
         "65",
         342,
         19.01
        ],
        [
         "Philippines",
         "4",
         22,
         18.18
        ],
        [
         "AIN",
         "5",
         32,
         15.63
        ],
        [
         "Republic of Moldova",
         "4",
         26,
         15.38
        ],
        [
         "Bulgaria",
         "7",
         46,
         15.22
        ],
        [
         "Kenya",
         "11",
         74,
         14.86
        ],
        [
         "Uzbekistan",
         "13",
         88,
         14.77
        ],
        [
         "Cuba",
         "9",
         61,
         14.75
        ],
        [
         "Azerbaijan",
         "7",
         48,
         14.58
        ],
        [
         "Botswana",
         "2",
         14,
         14.29
        ],
        [
         "Pakistan",
         "1",
         7,
         14.29
        ],
        [
         "Cabo Verde",
         "1",
         7,
         14.29
        ],
        [
         "Guatemala",
         "2",
         16,
         12.5
        ],
        [
         "Panama",
         "1",
         8,
         12.5
        ],
        [
         "Ecuador",
         "5",
         40,
         12.5
        ],
        [
         "Ethiopia",
         "4",
         33,
         12.12
        ],
        [
         "Netherlands",
         "34",
         289,
         11.76
        ],
        [
         "Hong Kong, China",
         "4",
         34,
         11.76
        ],
        [
         "Chinese Taipei",
         "7",
         60,
         11.67
        ],
        [
         "Thailand",
         "6",
         52,
         11.54
        ],
        [
         "Tunisia",
         "3",
         26,
         11.54
        ],
        [
         "Australia",
         "53",
         475,
         11.16
        ],
        [
         "Hungary",
         "19",
         177,
         10.73
        ],
        [
         "France",
         "64",
         600,
         10.67
        ],
        [
         "Japan",
         "45",
         431,
         10.44
        ],
        [
         "Italy",
         "40",
         397,
         10.08
        ],
        [
         "New Zealand",
         "20",
         208,
         9.62
        ],
        [
         "Croatia",
         "7",
         73,
         9.59
        ],
        [
         "Romania",
         "9",
         96,
         9.38
        ],
        [
         "Jamaica",
         "6",
         65,
         9.23
        ],
        [
         "Kazakhstan",
         "7",
         79,
         8.86
        ],
        [
         "Sweden",
         "11",
         125,
         8.8
        ],
        [
         "Ukraine",
         "12",
         141,
         8.51
        ],
        [
         "Jordan",
         "1",
         12,
         8.33
        ],
        [
         "Canada",
         "27",
         332,
         8.13
        ],
        [
         "Uganda",
         "2",
         25,
         8.0
        ],
        [
         "Greece",
         "8",
         100,
         8.0
        ],
        [
         "Türkiye",
         "8",
         101,
         7.92
        ],
        [
         "Israel",
         "7",
         89,
         7.87
        ],
        [
         "Lithuania",
         "4",
         51,
         7.84
        ],
        [
         "Qatar",
         "1",
         13,
         7.69
        ],
        [
         "Côte d'Ivoire",
         "1",
         13,
         7.69
        ],
        [
         "Malaysia",
         "2",
         26,
         7.69
        ],
        [
         "Norway",
         "8",
         109,
         7.34
        ],
        [
         "Germany",
         "33",
         457,
         7.22
        ],
        [
         "Brazil",
         "20",
         290,
         6.9
        ],
        [
         "Indonesia",
         "2",
         29,
         6.9
        ],
        [
         "Denmark",
         "9",
         131,
         6.87
        ],
        [
         "Cyprus",
         "1",
         15,
         6.67
        ],
        [
         "Algeria",
         "3",
         46,
         6.52
        ],
        [
         "Austria",
         "5",
         84,
         5.95
        ],
        [
         "Switzerland",
         "8",
         137,
         5.84
        ],
        [
         "Belgium",
         "10",
         177,
         5.65
        ],
        [
         "India",
         "6",
         112,
         5.36
        ],
        [
         "Portugal",
         "4",
         75,
         5.33
        ],
        [
         "Dominican Republic",
         "3",
         59,
         5.08
        ],
        [
         "Ireland",
         "7",
         143,
         4.9
        ],
        [
         "Mexico",
         "5",
         108,
         4.63
        ],
        [
         "Colombia",
         "4",
         88,
         4.55
        ],
        [
         "Czechia",
         "5",
         111,
         4.5
        ],
        [
         "Spain",
         "18",
         401,
         4.49
        ],
        [
         "Poland",
         "10",
         226,
         4.42
        ],
        [
         "Serbia",
         "5",
         114,
         4.39
        ],
        [
         "Singapore",
         "1",
         23,
         4.35
        ],
        [
         "South Africa",
         "6",
         141,
         4.26
        ],
        [
         "Chile",
         "2",
         48,
         4.17
        ],
        [
         "Puerto Rico",
         "2",
         51,
         3.92
        ],
        [
         "Peru",
         "1",
         26,
         3.85
        ],
        [
         "Slovakia",
         "1",
         28,
         3.57
        ],
        [
         "Morocco",
         "2",
         61,
         3.28
        ],
        [
         "Zambia",
         "1",
         31,
         3.23
        ],
        [
         "Slovenia",
         "3",
         95,
         3.16
        ],
        [
         "Mongolia",
         "1",
         32,
         3.13
        ],
        [
         "Fiji",
         "1",
         36,
         2.78
        ],
        [
         "EOR",
         "1",
         37,
         2.7
        ],
        [
         "Argentina",
         "3",
         143,
         2.1
        ],
        [
         "Egypt",
         "3",
         157,
         1.91
        ]
       ],
       "datasetInfos": [],
       "dbfsResultPath": null,
       "isJsonSchema": true,
       "metadata": {},
       "overflow": false,
       "plotOptions": {
        "customPlotOptions": {},
        "displayType": "table",
        "pivotAggregation": null,
        "pivotColumns": null,
        "xColumns": null,
        "yColumns": null
       },
       "removedWidgets": [],
       "schema": [
        {
         "metadata": "{}",
         "name": "country",
         "type": "\"string\""
        },
        {
         "metadata": "{}",
         "name": "Total_Medals",
         "type": "\"string\""
        },
        {
         "metadata": "{}",
         "name": "Total_Athletes",
         "type": "\"long\""
        },
        {
         "metadata": "{}",
         "name": "Efficiency",
         "type": "\"double\""
        }
       ],
       "type": "table"
      }
     },
     "output_type": "display_data"
    },
    {
     "output_type": "display_data",
     "data": {
      "text/plain": [
       "Databricks visualization. Run in Databricks to view."
      ]
     },
     "metadata": {
      "application/vnd.databricks.v1.subcommand+json": {
       "baseErrorDetails": null,
       "bindings": {},
       "collapsed": false,
       "command": "%python\n__backend_agg_display_orig = display\n__backend_agg_dfs = []\ndef __backend_agg_display_new(df):\n    __backend_agg_df_modules = [\"pandas.core.frame\", \"databricks.koalas.frame\", \"pyspark.sql.dataframe\", \"pyspark.pandas.frame\", \"pyspark.sql.connect.dataframe\"]\n    if (type(df).__module__ in __backend_agg_df_modules and type(df).__name__ == 'DataFrame') or isinstance(df, list):\n        __backend_agg_dfs.append(df)\n\ndisplay = __backend_agg_display_new\n\ndef __backend_agg_user_code_fn():\n    import base64\n    exec(base64.standard_b64decode(\"ZGZfMSA9IGF0aGxldGVzX2NsZWFuZWQuZ3JvdXBCeShjb2woImNvdW50cnlfY29kZSIpKS5jb3VudCgpCmRpc3BsYXkoCiAgICBtZWRhbHNfdG90YWwuam9pbihkZl8xLCAiY291bnRyeV9jb2RlIiwgImlubmVyIikgXAogICAgLnNlbGVjdEV4cHIoImNvdW50cnkiLCAiVG90YWwgQVMgVG90YWxfTWVkYWxzIiwgImNvdW50IEFTIFRvdGFsX0F0aGxldGVzIikgXAogICAgLndpdGhDb2x1bW4oIkVmZmljaWVuY3kiLCByb3VuZChjb2woIlRvdGFsX01lZGFscyIpIC8gY29sKCJUb3RhbF9BdGhsZXRlcyIpICogMTAwLCAyKSkgXAogICAgLm9yZGVyQnkoY29sKCJFZmZpY2llbmN5IikuZGVzYygpKQop\").decode())\n\ntry:\n    # run user code\n    __backend_agg_user_code_fn()\n\n    #reset display function\n    display = __backend_agg_display_orig\n\n    if len(__backend_agg_dfs) > 0:\n        # create a temp view\n        if type(__backend_agg_dfs[0]).__module__ == \"databricks.koalas.frame\":\n            # koalas dataframe\n            __backend_agg_dfs[0].to_spark().createOrReplaceTempView(\"DatabricksViewbaaf6ba\")\n        elif type(__backend_agg_dfs[0]).__module__ == \"pandas.core.frame\" or isinstance(__backend_agg_dfs[0], list):\n            # pandas dataframe\n            spark.createDataFrame(__backend_agg_dfs[0]).createOrReplaceTempView(\"DatabricksViewbaaf6ba\")\n        else:\n            __backend_agg_dfs[0].createOrReplaceTempView(\"DatabricksViewbaaf6ba\")\n        #run backend agg\n        display(spark.sql(\"\"\"WITH q AS (select * from DatabricksViewbaaf6ba) SELECT `country`,SUM(`Efficiency`) `column_9a64e137152` FROM q GROUP BY `country`\"\"\"))\n    else:\n        displayHTML(\"dataframe no longer exists. If you're using dataframe.display(), use display(dataframe) instead.\")\n\n\nfinally:\n    spark.sql(\"drop view if exists DatabricksViewbaaf6ba\")\n    display = __backend_agg_display_orig\n    del __backend_agg_display_new\n    del __backend_agg_display_orig\n    del __backend_agg_dfs\n    del __backend_agg_user_code_fn\n\n",
       "commandTitle": "Visualization 1",
       "commandType": "auto",
       "commandVersion": 0,
       "commentThread": [],
       "commentsVisible": false,
       "contentSha256Hex": null,
       "customPlotOptions": {
        "redashChart": [
         {
          "key": "type",
          "value": "CHART"
         },
         {
          "key": "options",
          "value": {
           "alignYAxesAtZero": true,
           "coefficient": 1,
           "columnConfigurationMap": {
            "x": {
             "column": "country",
             "id": "column_9a64e137150"
            },
            "y": [
             {
              "column": "Efficiency",
              "id": "column_9a64e137152",
              "transform": "SUM"
             }
            ]
           },
           "dateTimeFormat": "DD/MM/YYYY HH:mm",
           "direction": {
            "type": "counterclockwise"
           },
           "error_y": {
            "type": "data",
            "visible": true
           },
           "globalSeriesType": "column",
           "isAggregationOn": true,
           "legend": {
            "traceorder": "normal"
           },
           "missingValuesAsZero": true,
           "numberFormat": "0,0.[00000]",
           "percentFormat": "0[.]00%",
           "series": {
            "error_y": {
             "type": "data",
             "visible": true
            },
            "stacking": null
           },
           "seriesOptions": {
            "column_9a64e137152": {
             "type": "column",
             "yAxis": 0
            }
           },
           "showDataLabels": false,
           "sizemode": "diameter",
           "sortX": true,
           "sortY": true,
           "swappedAxes": false,
           "textFormat": "",
           "useAggregationsUi": true,
           "valuesOptions": {},
           "version": 2,
           "xAxis": {
            "labels": {
             "enabled": true
            },
            "type": "-"
           },
           "yAxis": [
            {
             "type": "-"
            },
            {
             "opposite": true,
             "type": "-"
            }
           ]
          }
         }
        ]
       },
       "datasetPreviewNameToCmdIdMap": {},
       "diffDeletes": [],
       "diffInserts": [],
       "displayType": "redashChart",
       "error": null,
       "errorDetails": null,
       "errorSummary": null,
       "errorTraceType": null,
       "finishTime": 0,
       "globalVars": {},
       "guid": "",
       "height": "auto",
       "hideCommandCode": false,
       "hideCommandResult": false,
       "iPythonMetadata": null,
       "inputWidgets": {},
       "isLockedInExamMode": false,
       "latestUser": "a user",
       "latestUserId": null,
       "listResultMetadata": null,
       "metadata": {},
       "nuid": "ea1b7119-acd5-441e-8044-59278ceaa32b",
       "origId": 0,
       "parentHierarchy": [],
       "pivotAggregation": null,
       "pivotColumns": null,
       "position": 16.5,
       "resultDbfsErrorMessage": null,
       "resultDbfsStatus": "INLINED_IN_TREE",
       "results": null,
       "showCommandTitle": false,
       "startTime": 0,
       "state": "input",
       "streamStates": {},
       "subcommandOptions": {
        "queryPlan": {
         "groups": [
          {
           "column": "country",
           "type": "column"
          }
         ],
         "selects": [
          {
           "column": "country",
           "type": "column"
          },
          {
           "alias": "column_9a64e137152",
           "args": [
            {
             "column": "Efficiency",
             "type": "column"
            }
           ],
           "function": "SUM",
           "type": "function"
          }
         ]
        }
       },
       "submitTime": 0,
       "subtype": "tableResultSubCmd.visualization",
       "tableResultIndex": 0,
       "tableResultSettingsMap": {},
       "useConsistentColors": false,
       "version": "CommandV1",
       "width": "auto",
       "workflows": [],
       "xColumns": null,
       "yColumns": null
      }
     },
     "output_type": "display_data"
    }
   ],
   "source": [
    "df_1 = athletes_cleaned.groupBy(col(\"country_code\")).count()\n",
    "display(\n",
    "    medals_total.join(df_1, \"country_code\", \"inner\") \\\n",
    "    .selectExpr(\"country\", \"Total AS Total_Medals\", \"count AS Total_Athletes\") \\\n",
    "    .withColumn(\"Efficiency\", round(col(\"Total_Medals\") / col(\"Total_Athletes\") * 100, 2)) \\\n",
    "    .orderBy(col(\"Efficiency\").desc())\n",
    ")"
   ]
  },
  {
   "cell_type": "markdown",
   "metadata": {
    "application/vnd.databricks.v1+cell": {
     "cellMetadata": {
      "byteLimit": 2048000,
      "rowLimit": 10000
     },
     "inputWidgets": {},
     "nuid": "4363c3ed-97c4-4226-a8fa-c789875e5141",
     "showTitle": false,
     "tableResultSettingsMap": {},
     "title": ""
    }
   },
   "source": [
    "# Assess Data Quality"
   ]
  },
  {
   "cell_type": "code",
   "execution_count": 0,
   "metadata": {
    "application/vnd.databricks.v1+cell": {
     "cellMetadata": {
      "byteLimit": 2048000,
      "rowLimit": 10000
     },
     "inputWidgets": {},
     "nuid": "fee78d2e-8ff0-43b9-a555-100d6204ced6",
     "showTitle": false,
     "tableResultSettingsMap": {},
     "title": ""
    }
   },
   "outputs": [],
   "source": [
    "def assess_data_quality(df, name):\n",
    "    quality_report = {\n",
    "        'datase_name': name,\n",
    "        'total_records': df.count(),\n",
    "        'total_columns': len(df.columns),\n",
    "        'missing_values': df.select([count(when(col(c).isNull(), c)).alias(c) for c in df.columns]).toPandas().sum().sum(),\n",
    "        'duplicate_records': df.dropDuplicates().count() - df.count(),\n",
    "        'data_types': dict(df.dtypes),\n",
    "        'missing_percentage': (df.select([count(when(col(c).isNull(), c)).alias(c) for c in df.columns]).toPandas() / df.count() * 100).to_dict()\n",
    "    }\n",
    "    return quality_report"
   ]
  },
  {
   "cell_type": "code",
   "execution_count": 0,
   "metadata": {
    "application/vnd.databricks.v1+cell": {
     "cellMetadata": {
      "byteLimit": 2048000,
      "rowLimit": 10000
     },
     "inputWidgets": {},
     "nuid": "d4deb8a0-1bb9-4d9c-9028-f2c1a572cebd",
     "showTitle": false,
     "tableResultSettingsMap": {},
     "title": ""
    }
   },
   "outputs": [
    {
     "output_type": "stream",
     "name": "stdout",
     "output_type": "stream",
     "text": [
      "{'data_types': {'birth_country': 'string',\n                'birth_date': 'date',\n                'birth_place': 'string',\n                'coach': 'string',\n                'code': 'string',\n                'country': 'string',\n                'country_code': 'string',\n                'country_long': 'string',\n                'disciplines': 'string',\n                'education': 'string',\n                'events': 'string',\n                'family': 'string',\n                'function': 'string',\n                'gender': 'string',\n                'height': 'string',\n                'hero': 'string',\n                'hobbies': 'string',\n                'influence': 'string',\n                'lang': 'string',\n                'name': 'string',\n                'name_short': 'string',\n                'name_tv': 'string',\n                'nationality': 'string',\n                'nationality_code': 'string',\n                'nationality_full': 'string',\n                'nickname': 'string',\n                'occupation': 'string',\n                'other_sports': 'string',\n                'philosophy': 'string',\n                'reason': 'string',\n                'residence_country': 'string',\n                'residence_place': 'string',\n                'ritual': 'string',\n                'sporting_relatives': 'string',\n                'weight': 'string'},\n 'datase_name': 'athletes_cleaned',\n 'duplicate_records': 0,\n 'missing_percentage': {'birth_country': {0: 14.716471647164717},\n                        'birth_date': {0: 0.0},\n                        'birth_place': {0: 21.44914491449145},\n                        'coach': {0: 25.994599459945995},\n                        'code': {0: 0.0},\n                        'country': {0: 0.0},\n                        'country_code': {0: 0.0},\n                        'country_long': {0: 0.0},\n                        'disciplines': {0: 0.0},\n                        'education': {0: 50.15301530153016},\n                        'events': {0: 0.0},\n                        'family': {0: 49.94599459945995},\n                        'function': {0: 0.0},\n                        'gender': {0: 0.0},\n                        'height': {0: 0.0},\n                        'hero': {0: 70.16201620162016},\n                        'hobbies': {0: 62.133213321332136},\n                        'influence': {0: 80.6030603060306},\n                        'lang': {0: 4.545454545454546},\n                        'name': {0: 0.0},\n                        'name_short': {0: 0.0},\n                        'name_tv': {0: 0.0},\n                        'nationality': {0: 0.027002700270027002},\n                        'nationality_code': {0: 0.027002700270027002},\n                        'nationality_full': {0: 0.027002700270027002},\n                        'nickname': {0: 73.3033303330333},\n                        'occupation': {0: 13.735373537353734},\n                        'other_sports': {0: 90.45904590459047},\n                        'philosophy': {0: 74.95049504950495},\n                        'reason': {0: 47.38073807380738},\n                        'residence_country': {0: 25.4005400540054},\n                        'residence_place': {0: 38.75787578757876},\n                        'ritual': {0: 92.26822682268227},\n                        'sporting_relatives': {0: 77.33573357335733},\n                        'weight': {0: 0.018001800180018002}},\n 'missing_values': np.int64(101478),\n 'total_columns': 35,\n 'total_records': 11110}\n"
     ]
    }
   ],
   "source": [
    "pprint(assess_data_quality(athletes_cleaned, 'athletes_cleaned'))"
   ]
  }
 ],
 "metadata": {
  "application/vnd.databricks.v1+notebook": {
   "computePreferences": null,
   "dashboards": [],
   "environmentMetadata": {
    "base_environment": "",
    "environment_version": "2"
   },
   "inputWidgetPreferences": null,
   "language": "python",
   "notebookMetadata": {
    "pythonIndentUnit": 4
   },
   "notebookName": "paris-olympic",
   "widgets": {}
  },
  "language_info": {
   "name": "python"
  }
 },
 "nbformat": 4,
 "nbformat_minor": 0
}